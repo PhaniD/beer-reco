{
 "cells": [
  {
   "cell_type": "markdown",
   "metadata": {},
   "source": [
    "# Predict overall rating for a beer\n",
    "\n",
    "In this notebook, using the ratings for four attributes of the beers (aroma, appearance, palate and taste), we train a regression model to predict the overall rating for a beer.\n",
    "\n",
    "We develop a regression model to identify the correlation between the attributes (collectively as well as individually) and the overall rating for a beer"
   ]
  },
  {
   "cell_type": "markdown",
   "metadata": {},
   "source": [
    "## Imports"
   ]
  },
  {
   "cell_type": "code",
   "execution_count": 1,
   "metadata": {
    "collapsed": true
   },
   "outputs": [],
   "source": [
    "%matplotlib inline\n",
    "import os\n",
    "import json\n",
    "import numpy as np\n",
    "import pandas as pd\n",
    "import seaborn as sns\n",
    "sns.set()"
   ]
  },
  {
   "cell_type": "markdown",
   "metadata": {},
   "source": [
    "## Data\n",
    "- We will use the reduced data set with sample means $\\textbf{(Ref: General Recommendations.ipynb)}$"
   ]
  },
  {
   "cell_type": "code",
   "execution_count": 2,
   "metadata": {
    "collapsed": false
   },
   "outputs": [],
   "source": [
    "dir_path = os.path.dirname(os.path.abspath('__file__'))\n",
    "\n",
    "# Get the file with reduced data set with sample means for each of the attributes.\n",
    "file_path = os.path.join(dir_path, 'reviews_means.json')\n",
    "\n",
    "data = dict()\n",
    "with open(file_path, 'r') as f:\n",
    "    data.update(\n",
    "        json.load(f)\n",
    "    )\n",
    "data_copy = dict()\n",
    "for key, value in data.items():\n",
    "    data_copy[key] = pd.read_json(value, orient='index')"
   ]
  },
  {
   "cell_type": "markdown",
   "metadata": {},
   "source": [
    "### Create a New DataFrame \n",
    "- Merge the reviews (Database style joining - OUTERJOIN)\n",
    "\n",
    "The total number of samples are greater than any one DataFrame. For example, all the beers that have overall rating might not have the corresponding aroma rating. \n",
    "\n",
    "Hence, concatenating and making a new DataFrame has many more samples than any one of the reviews and it has holes in the data."
   ]
  },
  {
   "cell_type": "code",
   "execution_count": 3,
   "metadata": {
    "collapsed": false
   },
   "outputs": [],
   "source": [
    "# New DataFrame - reviews\n",
    "reviews = data_copy['review_overall']\n",
    "\n",
    "for review in ['review_aroma', 'review_appearance', 'review_palate', 'review_taste']:\n",
    "    reviews = pd.merge(reviews, data_copy[review], how='outer')\n"
   ]
  },
  {
   "cell_type": "markdown",
   "metadata": {},
   "source": [
    "## Data Cleaning\n",
    "\n",
    "- Remove NaNs\n",
    "- Other option is to impute the data to fill holes by looking at rating for similar beer styles."
   ]
  },
  {
   "cell_type": "code",
   "execution_count": 4,
   "metadata": {
    "collapsed": false
   },
   "outputs": [
    {
     "data": {
      "text/html": [
       "<div>\n",
       "<style>\n",
       "    .dataframe thead tr:only-child th {\n",
       "        text-align: right;\n",
       "    }\n",
       "\n",
       "    .dataframe thead th {\n",
       "        text-align: left;\n",
       "    }\n",
       "\n",
       "    .dataframe tbody tr th {\n",
       "        vertical-align: top;\n",
       "    }\n",
       "</style>\n",
       "<table border=\"1\" class=\"dataframe\">\n",
       "  <thead>\n",
       "    <tr style=\"text-align: right;\">\n",
       "      <th></th>\n",
       "      <th>beer_beerid</th>\n",
       "      <th>beer_name</th>\n",
       "      <th>beer_style</th>\n",
       "      <th>review_overall</th>\n",
       "      <th>review_aroma</th>\n",
       "      <th>review_appearance</th>\n",
       "      <th>review_palate</th>\n",
       "      <th>review_taste</th>\n",
       "    </tr>\n",
       "  </thead>\n",
       "  <tbody>\n",
       "    <tr>\n",
       "      <th>0</th>\n",
       "      <td>436</td>\n",
       "      <td>Amstel Light</td>\n",
       "      <td>Light Lager</td>\n",
       "      <td>3.0</td>\n",
       "      <td>2.0</td>\n",
       "      <td>3.0</td>\n",
       "      <td>2.5</td>\n",
       "      <td>2.5</td>\n",
       "    </tr>\n",
       "    <tr>\n",
       "      <th>1</th>\n",
       "      <td>25414</td>\n",
       "      <td>Caldera Pale Ale</td>\n",
       "      <td>American Pale Ale (APA)</td>\n",
       "      <td>4.0</td>\n",
       "      <td>3.5</td>\n",
       "      <td>3.5</td>\n",
       "      <td>4.0</td>\n",
       "      <td>4.0</td>\n",
       "    </tr>\n",
       "    <tr>\n",
       "      <th>2</th>\n",
       "      <td>57110</td>\n",
       "      <td>D.O.R.I.S. The Destroyer Double Imperial Stout</td>\n",
       "      <td>Russian Imperial Stout</td>\n",
       "      <td>4.5</td>\n",
       "      <td>4.5</td>\n",
       "      <td>4.5</td>\n",
       "      <td>5.0</td>\n",
       "      <td>5.0</td>\n",
       "    </tr>\n",
       "    <tr>\n",
       "      <th>3</th>\n",
       "      <td>1959</td>\n",
       "      <td>Farmhouse Summer Ale</td>\n",
       "      <td>American Blonde Ale</td>\n",
       "      <td>4.0</td>\n",
       "      <td>3.5</td>\n",
       "      <td>4.0</td>\n",
       "      <td>4.0</td>\n",
       "      <td>4.0</td>\n",
       "    </tr>\n",
       "    <tr>\n",
       "      <th>4</th>\n",
       "      <td>9689</td>\n",
       "      <td>White Rascal</td>\n",
       "      <td>Witbier</td>\n",
       "      <td>5.0</td>\n",
       "      <td>4.0</td>\n",
       "      <td>4.0</td>\n",
       "      <td>3.5</td>\n",
       "      <td>4.5</td>\n",
       "    </tr>\n",
       "  </tbody>\n",
       "</table>\n",
       "</div>"
      ],
      "text/plain": [
       "   beer_beerid                                       beer_name  \\\n",
       "0          436                                    Amstel Light   \n",
       "1        25414                                Caldera Pale Ale   \n",
       "2        57110  D.O.R.I.S. The Destroyer Double Imperial Stout   \n",
       "3         1959                            Farmhouse Summer Ale   \n",
       "4         9689                                    White Rascal   \n",
       "\n",
       "                beer_style  review_overall  review_aroma  review_appearance  \\\n",
       "0              Light Lager             3.0           2.0                3.0   \n",
       "1  American Pale Ale (APA)             4.0           3.5                3.5   \n",
       "2   Russian Imperial Stout             4.5           4.5                4.5   \n",
       "3      American Blonde Ale             4.0           3.5                4.0   \n",
       "4                  Witbier             5.0           4.0                4.0   \n",
       "\n",
       "   review_palate  review_taste  \n",
       "0            2.5           2.5  \n",
       "1            4.0           4.0  \n",
       "2            5.0           5.0  \n",
       "3            4.0           4.0  \n",
       "4            3.5           4.5  "
      ]
     },
     "execution_count": 4,
     "metadata": {},
     "output_type": "execute_result"
    }
   ],
   "source": [
    "reviews = reviews.dropna()\n",
    "reviews.head()"
   ]
  },
  {
   "cell_type": "markdown",
   "metadata": {},
   "source": [
    "## Visualize Data"
   ]
  },
  {
   "cell_type": "code",
   "execution_count": 5,
   "metadata": {
    "collapsed": false
   },
   "outputs": [
    {
     "data": {
      "text/plain": [
       "<seaborn.axisgrid.PairGrid at 0x1105af6a0>"
      ]
     },
     "execution_count": 5,
     "metadata": {},
     "output_type": "execute_result"
    },
    {
     "data": {
      "image/png": "[encoded data removed]",
      "text/plain": [
       "<matplotlib.figure.Figure at 0x1105af4e0>"
      ]
     },
     "metadata": {},
     "output_type": "display_data"
    }
   ],
   "source": [
    "sns.pairplot(reviews, x_vars=['review_aroma', 'review_appearance', 'review_palate', 'review_taste'], \n",
    "             y_vars=['review_overall'], kind='reg')"
   ]
  },
  {
   "cell_type": "markdown",
   "metadata": {},
   "source": [
    "## Regression Models"
   ]
  },
  {
   "cell_type": "markdown",
   "metadata": {},
   "source": [
    "- Isolate features (X) and targets(y). \n",
    "- Features are the attributes of the beers (aroma, appearance, palate and taste) and targets are overall reviews\n",
    "- Split dats into KFolds (Bootstrapping/Cross-validation)\n",
    "- Make an ML pipeline - Standardize data and fit a model\n",
    "- Apply different regressors to compare the fits\n"
   ]
  },
  {
   "cell_type": "code",
   "execution_count": 6,
   "metadata": {
    "collapsed": false
   },
   "outputs": [],
   "source": [
    "from sklearn.preprocessing import StandardScaler\n",
    "from sklearn.model_selection import train_test_split\n",
    "from sklearn.model_selection import cross_val_score\n",
    "from sklearn.model_selection import KFold\n",
    "from sklearn.pipeline import make_pipeline\n",
    "from sklearn.linear_model import LinearRegression\n",
    "from sklearn.linear_model import Ridge\n",
    "from sklearn.linear_model import Lasso\n",
    "from sklearn.neighbors import KNeighborsRegressor\n",
    "\n",
    "X = reviews[['review_aroma', 'review_appearance','review_palate', 'review_taste']]\n",
    "y = reviews['review_overall']"
   ]
  },
  {
   "cell_type": "markdown",
   "metadata": {},
   "source": [
    "### Instantiate multiple regression models\n",
    "- Linear Regression\n",
    "- Lasso ( with L1 penalty)\n",
    "- Ridge (with L2 penalty)\n",
    "- KNeighbors"
   ]
  },
  {
   "cell_type": "code",
   "execution_count": 7,
   "metadata": {
    "collapsed": false
   },
   "outputs": [],
   "source": [
    "kfold = KFold(n_splits=10, shuffle=True)\n",
    "#linear = make_pipeline(StandardScaler(), LinearRegression(fit_intercept=True))\n",
    "#lasso = make_pipeline(StandardScaler(), Lasso(alpha=0.01, fit_intercept=True))\n",
    "#ridge = make_pipeline(StandardScaler(), Ridge(fit_intercept=True))\n",
    "#kneighbors = make_pipeline(StandardScaler(), KNeighborsRegressor())"
   ]
  },
  {
   "cell_type": "markdown",
   "metadata": {},
   "source": [
    "### Generate KFolds"
   ]
  },
  {
   "cell_type": "code",
   "execution_count": 8,
   "metadata": {
    "collapsed": false
   },
   "outputs": [],
   "source": [
    "data_sets = dict()\n",
    "for split in range(10):\n",
    "    _d = dict()\n",
    "    for train_idx, test_idx in kfold.split(X):\n",
    "        _d.update({\n",
    "                'X_train' : X.iloc[train_idx],\n",
    "                'X_test': X.iloc[test_idx],\n",
    "                'y_train': y.iloc[train_idx],\n",
    "                'y_test': y.iloc[test_idx]\n",
    "            })\n",
    "    data_sets.update({\n",
    "            split : _d\n",
    "        })"
   ]
  },
  {
   "cell_type": "markdown",
   "metadata": {},
   "source": [
    "### Define Regression class \n",
    "- To wrap scikit-learn methods"
   ]
  },
  {
   "cell_type": "code",
   "execution_count": 9,
   "metadata": {
    "collapsed": true
   },
   "outputs": [],
   "source": [
    "from sklearn import metrics\n",
    "\n",
    "class Regression:\n",
    "    def __init__(self, regressor):\n",
    "        self.regressor = regressor\n",
    "        \n",
    "    def fit(self, X, y):\n",
    "        self.regressor.fit(X, y) \n",
    "\n",
    "    def predict(self, X, y):\n",
    "        return self.regressor.predict(X)\n",
    "    \n",
    "    def score(self, X, y):\n",
    "        return self.regressor.score(X, y)\n",
    "\n",
    "    def mean_squared_error(self, X, y):\n",
    "        return metrics.mean_squared_error(self.predict(X,y), y)\n",
    "    \n",
    "    def accuracy(self, X,y):\n",
    "        return metrics.r2_score(self.predict(X,y), y)"
   ]
  },
  {
   "cell_type": "markdown",
   "metadata": {},
   "source": [
    "### Define some utility functions\n",
    "- model_fit: Fits a regression model using one of the pipelines defined above\n",
    "- averaged_params: Fit a linear model for each data set generated by KFold splits\n",
    "- compute_averages: Compute averages of coefficeints, error and score over KFolds"
   ]
  },
  {
   "cell_type": "code",
   "execution_count": 10,
   "metadata": {
    "collapsed": false
   },
   "outputs": [],
   "source": [
    "def model_fit(data_set, regressor):\n",
    "    params = dict()\n",
    "    regressor.fit(data_set['X_train'], data_set['y_train'])\n",
    "    neighbors = True if 'neighbors' in regressor.regressor.steps[1][0] else False\n",
    "    params.update({\n",
    "            'coeffs' : [0.0] if neighbors else regressor.regressor.steps[1][1].coef_,\n",
    "            'intercept': [0.0] if neighbors else regressor.regressor.steps[1][1].intercept_,\n",
    "            'mean_sq_error': regressor.mean_squared_error(data_set['X_train'], data_set['y_train']),\n",
    "            'accuracy': regressor.accuracy(data_set['X_test'], data_set['y_test'])\n",
    "        })\n",
    "    #print (params)\n",
    "    return params\n",
    "    \n",
    "def compute_averages(list_of_dicts):\n",
    "    averaged_params = dict()\n",
    "    for set_key in list_of_dicts[0].keys():\n",
    "        _list = [val for obj in list_of_dicts for key, val in obj.items() if key == set_key]\n",
    "        if isinstance(_list[0], dict):\n",
    "            averaged_params[set_key] = compute_averages(_list)\n",
    "        elif isinstance(_list[0], list) or isinstance(_list[0], np.ndarray):\n",
    "            if isinstance(_list[0][0], dict):\n",
    "                sub_list = [[_list[i][j] for i in range(len(_list))] for j in range(len(_list[0]))]\n",
    "                averaged_params[set_key] = [compute_averages(x) for x in sub_list]\n",
    "            else:\n",
    "                averaged_params[set_key] = np.round(np.average(np.array(_list), axis=0), 3)\n",
    "        elif isinstance(_list[0], float) or isinstance(_list[0], int):\n",
    "            averaged_params[set_key] = np.round(np.average(np.array(_list)), 3)\n",
    "        else:\n",
    "            pass\n",
    "    return averaged_params\n",
    "\n",
    "def averaged_params(regressor):\n",
    "    multiple_params = list()\n",
    "    for set_key, value in data_sets.items():\n",
    "        multiple_params.append({\n",
    "                set_key: model_fit(value, regressor)\n",
    "            })\n",
    "    return compute_averages(multiple_params)"
   ]
  },
  {
   "cell_type": "markdown",
   "metadata": {},
   "source": [
    "### Linear Regression"
   ]
  },
  {
   "cell_type": "code",
   "execution_count": 11,
   "metadata": {
    "collapsed": false
   },
   "outputs": [
    {
     "data": {
      "text/plain": [
       "{0: {'accuracy': 0.501,\n",
       "  'coeffs': array([ 0.04 ,  0.014,  0.161,  0.356]),\n",
       "  'intercept': 3.823,\n",
       "  'mean_sq_error': 0.151}}"
      ]
     },
     "execution_count": 11,
     "metadata": {},
     "output_type": "execute_result"
    }
   ],
   "source": [
    "# Linear Regression Pipeline\n",
    "linear = make_pipeline(StandardScaler(), LinearRegression(fit_intercept=True))\n",
    "regressor = Regression(linear)\n",
    "\n",
    "# Averaged Model Parameters over 5 splits (or 5-fold cross-validation) \n",
    "averaged_params(regressor)"
   ]
  },
  {
   "cell_type": "markdown",
   "metadata": {},
   "source": [
    "### Lasso (Regularization - L1 Penalty)"
   ]
  },
  {
   "cell_type": "code",
   "execution_count": 12,
   "metadata": {
    "collapsed": false
   },
   "outputs": [
    {
     "name": "stdout",
     "output_type": "stream",
     "text": [
      "Lasso: alpha =  1.0\n",
      "{0: {'coeffs': array([ 0.,  0.,  0.,  0.]), 'intercept': 3.823, 'accuracy': -2.6980869800436656e+29, 'mean_sq_error': 0.42199999999999999}}\n",
      "**********************\n",
      "Lasso: alpha =  0.1\n",
      "{0: {'coeffs': array([ 0.   ,  0.   ,  0.116,  0.322]), 'intercept': 3.823, 'accuracy': 0.071999999999999995, 'mean_sq_error': 0.16400000000000001}}\n",
      "**********************\n",
      "Lasso: alpha =  0.01\n",
      "{0: {'coeffs': array([ 0.036,  0.009,  0.158,  0.354]), 'intercept': 3.823, 'accuracy': 0.47199999999999998, 'mean_sq_error': 0.151}}\n",
      "**********************\n",
      "Lasso: alpha =  0.001\n",
      "{0: {'coeffs': array([ 0.04 ,  0.014,  0.161,  0.356]), 'intercept': 3.823, 'accuracy': 0.498, 'mean_sq_error': 0.151}}\n",
      "**********************\n"
     ]
    }
   ],
   "source": [
    "# Lasso Regression Pipeline\n",
    "for alpha in [1.0, 0.1, 0.01, 0.001]:\n",
    "    lasso = make_pipeline(StandardScaler(), Lasso(alpha=alpha, fit_intercept=True))\n",
    "    regressor = Regression(lasso)\n",
    "    print (\"Lasso: alpha = \", alpha)\n",
    "    print (averaged_params(regressor))\n",
    "    print ('**********************')"
   ]
  },
  {
   "cell_type": "markdown",
   "metadata": {},
   "source": [
    "### Ridge (Regularization - L2 Penalty)"
   ]
  },
  {
   "cell_type": "code",
   "execution_count": 13,
   "metadata": {
    "collapsed": false
   },
   "outputs": [
    {
     "name": "stdout",
     "output_type": "stream",
     "text": [
      "Ridge: alpha =  1.0\n",
      "{0: {'coeffs': array([ 0.04 ,  0.014,  0.161,  0.356]), 'intercept': 3.823, 'accuracy': 0.501, 'mean_sq_error': 0.151}}\n",
      "**********************\n",
      "Ridge: alpha =  0.1\n",
      "{0: {'coeffs': array([ 0.04 ,  0.014,  0.161,  0.356]), 'intercept': 3.823, 'accuracy': 0.501, 'mean_sq_error': 0.151}}\n",
      "**********************\n",
      "Ridge: alpha =  0.01\n",
      "{0: {'coeffs': array([ 0.04 ,  0.014,  0.161,  0.356]), 'intercept': 3.823, 'accuracy': 0.501, 'mean_sq_error': 0.151}}\n",
      "**********************\n",
      "Ridge: alpha =  0.001\n",
      "{0: {'coeffs': array([ 0.04 ,  0.014,  0.161,  0.356]), 'intercept': 3.823, 'accuracy': 0.501, 'mean_sq_error': 0.151}}\n",
      "**********************\n"
     ]
    }
   ],
   "source": [
    "# Ridge Regression Pipeline\n",
    "for alpha in [1.0, 0.1, 0.01, 0.001]:\n",
    "    ridge = make_pipeline(StandardScaler(), Ridge(alpha=alpha, fit_intercept=True))\n",
    "    regressor = Regression(ridge)\n",
    "    print (\"Ridge: alpha = \", alpha)\n",
    "    print (averaged_params(regressor))\n",
    "    print ('**********************')"
   ]
  },
  {
   "cell_type": "markdown",
   "metadata": {},
   "source": [
    "### KNeighbors"
   ]
  },
  {
   "cell_type": "code",
   "execution_count": 15,
   "metadata": {
    "collapsed": false
   },
   "outputs": [
    {
     "name": "stdout",
     "output_type": "stream",
     "text": [
      "KNeighbors: neighbors =  1\n",
      "{0: {'coeffs': array([ 0.]), 'intercept': array([ 0.]), 'accuracy': 0.34699999999999998, 'mean_sq_error': 0.32600000000000001}}\n",
      "**********************\n",
      "KNeighbors: neighbors =  2\n",
      "{0: {'coeffs': array([ 0.]), 'intercept': array([ 0.]), 'accuracy': 0.27700000000000002, 'mean_sq_error': 0.17799999999999999}}\n",
      "**********************\n",
      "KNeighbors: neighbors =  3\n",
      "{0: {'coeffs': array([ 0.]), 'intercept': array([ 0.]), 'accuracy': 0.312, 'mean_sq_error': 0.16300000000000001}}\n",
      "**********************\n",
      "KNeighbors: neighbors =  4\n",
      "{0: {'coeffs': array([ 0.]), 'intercept': array([ 0.]), 'accuracy': 0.29599999999999999, 'mean_sq_error': 0.152}}\n",
      "**********************\n",
      "KNeighbors: neighbors =  5\n",
      "{0: {'coeffs': array([ 0.]), 'intercept': array([ 0.]), 'accuracy': 0.29299999999999998, 'mean_sq_error': 0.151}}\n",
      "**********************\n",
      "KNeighbors: neighbors =  6\n",
      "{0: {'coeffs': array([ 0.]), 'intercept': array([ 0.]), 'accuracy': 0.315, 'mean_sq_error': 0.14599999999999999}}\n",
      "**********************\n",
      "KNeighbors: neighbors =  7\n",
      "{0: {'coeffs': array([ 0.]), 'intercept': array([ 0.]), 'accuracy': 0.35299999999999998, 'mean_sq_error': 0.14799999999999999}}\n",
      "**********************\n",
      "KNeighbors: neighbors =  8\n",
      "{0: {'coeffs': array([ 0.]), 'intercept': array([ 0.]), 'accuracy': 0.375, 'mean_sq_error': 0.14699999999999999}}\n",
      "**********************\n",
      "KNeighbors: neighbors =  9\n",
      "{0: {'coeffs': array([ 0.]), 'intercept': array([ 0.]), 'accuracy': 0.373, 'mean_sq_error': 0.14899999999999999}}\n",
      "**********************\n"
     ]
    }
   ],
   "source": [
    "# KNeighbors Regression Pipeline\n",
    "for neighbors in range(1,10):\n",
    "    kneighbors = make_pipeline(StandardScaler(), KNeighborsRegressor(n_neighbors=neighbors))\n",
    "    regressor = Regression(kneighbors)\n",
    "    print (\"KNeighbors: neighbors = \", neighbors)\n",
    "    print (averaged_params(regressor))\n",
    "    print ('**********************')\n",
    "    "
   ]
  }
 ],
 "metadata": {
  "anaconda-cloud": {},
  "kernelspec": {
   "display_name": "Python [default]",
   "language": "python",
   "name": "python3"
  },
  "language_info": {
   "codemirror_mode": {
    "name": "ipython",
    "version": 3
   },
   "file_extension": ".py",
   "mimetype": "text/x-python",
   "name": "python",
   "nbconvert_exporter": "python",
   "pygments_lexer": "ipython3",
   "version": "3.5.2"
  }
 },
 "nbformat": 4,
 "nbformat_minor": 1
}
