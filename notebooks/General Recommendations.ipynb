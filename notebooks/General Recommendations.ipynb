{
 "cells": [
  {
   "cell_type": "markdown",
   "metadata": {},
   "source": [
    "## Imports and Preprocessing"
   ]
  },
  {
   "cell_type": "code",
   "execution_count": 2,
   "metadata": {
    "collapsed": true
   },
   "outputs": [],
   "source": [
    "%matplotlib inline\n",
    "import os\n",
    "import numpy as np\n",
    "import sklearn\n",
    "import pandas as pd\n",
    "import seaborn as sns\n",
    "sns.set()\n",
    "\n",
    "# Import CSV\n",
    "dir_path = os.path.dirname(os.path.abspath('__file__'))\n",
    "file_path = os.path.join(dir_path, 'beer_reviews.csv')\n",
    "beer_data = pd.read_csv(file_path, delimiter=',', encoding='utf-8')\n",
    "# Drop any column that is not very informative\n",
    "beer_data.drop(['brewery_id', 'review_time'], axis=1, inplace=True)\n",
    "\n",
    "# Split data frame into individual frames\n",
    "reviews = dict()\n",
    "for col in beer_data.columns:\n",
    "    reviews.update({\n",
    "            col:beer_data[col]\n",
    "        })"
   ]
  },
  {
   "cell_type": "markdown",
   "metadata": {},
   "source": [
    "## General Recommendation\n",
    "\n",
    "### Recommend beers based on overall reviews from all reviewers\n",
    "\n",
    "Ordering of overall rating (\"review_overall\") for beers returns a list of beers and their corresponding ranking in the list. However, general sorting and ranking is not statistically correct beause,\n",
    "- the overall ratings are distributed around a mean value \n",
    "- all beers are not rated by all the users\n",
    "- some beers have only one or very few ratings and some others have few hundreds of ratings\n",
    "\n",
    "Hence, we adopt the following steps to clean and standardize the data befoire sort and rank the reviews.\n",
    "\n",
    "### Step 1: Data Cleaning\n",
    "\n",
    "- Group reviews by beer identifiers\n",
    "- Drop duplicate reviews by the same reviewer for same beer\n",
    "- Drop any samples with undefined values (NaNs)\n",
    "\n",
    "### Step 2: Redefining Sample Data\n",
    "\n",
    "- Calculate sample means of overall ratings for a given beer \n",
    "- Include only the beers where we can calculate the sample mean within a certain margin of error.\n",
    "\n",
    "Chose the beers with reviews greater than a certain threshold number of reviews (min number of samples) that are required to predict the sample mean with 95% confidence interval. \n",
    "\n",
    "We use this formula: ($\\frac{\\sigma^2 * Z^2}{m^2}$), where $\\sigma$ is the standard deviation of the sample, Z-score for a confidence interval of 95% is 1.96 and m is the allowed margin of error. \n",
    "\n",
    "- Reduce the sample set by assign the mean value as the overall rating for that beer\n",
    "\n",
    "### Step 3: Sort and Rank\n",
    "- Sort and rank the ratings to pick the top few beers as recommendations based on this data."
   ]
  },
  {
   "cell_type": "code",
   "execution_count": null,
   "metadata": {
    "collapsed": false
   },
   "outputs": [],
   "source": [
    "# Define Margin of Error and Z-score for 95% confidence interval\n",
    "mError = 0.1\n",
    "zScore = 1.96\n",
    "\n",
    "def prep_data_frame(_list):\n",
    "    \"\"\"\n",
    "    _list: list of column headers. Example: [\"beer_beerid\",\"beer_name\",..]\n",
    "    \"\"\"\n",
    "    _dict = {header: reviews[header] for header in _list}\n",
    "    return pd.DataFrame.from_dict(_dict)\n",
    "    \n",
    "def calculate_stats(key, data_frame):\n",
    "    _df = data_frame.groupby(level=0)\n",
    "    _samples = _df.count().rename(columns={key: 'count'})\n",
    "    _means = _df.mean().rename(columns={key: 'mean'})\n",
    "    _std = _df.std().rename(columns={key:'std'})\n",
    "    return pd.concat([_samples, _means, _std], axis=1)\n",
    "    \n",
    "\n",
    "beer_identifiers = beer_data[['beer_beerid','beer_name', 'beer_style', 'review_profilename']]\n",
    "review_stats = dict()\n",
    "for key in ['review_overall', 'review_aroma', 'review_taste', 'review_appearance', 'review_palate']:\n",
    "    # Prepare Data Frame for each review\n",
    "    _ids = prep_data_frame(beer_identifiers)\n",
    "    _review = prep_data_frame([key])\n",
    "    _data_frame = pd.concat([_ids, _review], axis=1).drop_duplicates(['beer_beerid','review_profilename'])\n",
    "    \n",
    "    # Filter rows if number of reviews meet certain criteria\n",
    "    _stats = calculate_stats(key, _data_frame.set_index([\"beer_beerid\",\"beer_name\"]))\n",
    "    _stats = _stats[_stats[std] != 0] # Remove rows with zero std dev\n",
    "    _stats['required'] = _stats['std'].map(lambda x:(x *zScore/mError)**2) # Add a new row with required num samples\n",
    "    _beer_ids = [idx for idx in _stats.index if _stats.loc[idx, count] > _stats.loc[idx, 'required']]\n",
    "    _mean_values = [_stats.loc[idx, mean] for idx in _beer_ids]\n",
    "    \n",
    "    # \n",
    "    _data_frame = _data_frame.drop_duplicates(['beer_beerid'])\n",
    "    _data_frame = []\n",
    "    \n",
    "    \n",
    "    review_stats[key] = {\n",
    "        'num_samples':_samples,\n",
    "        'sample_means': _means,\n",
    "        'sample_std': _std\n",
    "    }"
   ]
  },
  {
   "cell_type": "markdown",
   "metadata": {},
   "source": [
    "#### 1. filter out sampleMeans with less number of reviews than minimum required to achieve 95% confidence interval \n",
    "#### 2. sort sampleMeans and rank beer_ids from the sorted sampleMeans\n",
    "#### 3. reject samples with std dev = 0.0"
   ]
  },
  {
   "cell_type": "code",
   "execution_count": null,
   "metadata": {
    "collapsed": true
   },
   "outputs": [],
   "source": [
    "sampleMeansTemp = {}\n",
    "for key in nSamples.keys(): \n",
    "    if key == \"review_overall\": # we are only interested in overall_review\n",
    "        for beerID in nSamples[key].keys(): # get the values - beer_beerid and overall review\n",
    "            if sampleStdDev[key][beerID] > 0:\n",
    "                nSamplesRequired = (sampleStdDev[key][beerID] * zScore/mError)**2\n",
    "            if nSamples[key][beerID] > nSamplesRequired:\n",
    "                sampleMeansTemp[beerID] =  sampleMeans[key][beerID]\n",
    "\n",
    "# redefine sampleMeans by sorted overall_reviews \n",
    "sampleMeans = sorted(sampleMeansTemp.items(), key=lambda x: x[1] , reverse=True)"
   ]
  },
  {
   "cell_type": "markdown",
   "metadata": {},
   "source": [
    "1. Filter out the beerIDs that are not included in sampleMeans list\n",
    "2. make a new dataframe \n",
    "\n",
    "#### Note: appending rows to make a new data frame takes a lot of time. \n",
    "3. So take the original data frame and drop the rows by comparing beerIDs"
   ]
  },
  {
   "cell_type": "code",
   "execution_count": null,
   "metadata": {
    "collapsed": true
   },
   "outputs": [],
   "source": [
    "reviewBeerIDs = [beerKey[0] for beerKey in sampleMeans]\n",
    "# drop the duplicate beerIDs \n",
    "newBeerDF = beerData.drop_duplicates([\"beer_beerid\"])\n",
    "beerIDsAll = newBeerDF.beer_beerid.tolist()\n",
    "\n",
    "# list the iDs that we need to discard\n",
    "discardBeerIDs = [beerID for beerID in beerIDsAll if beerID not in reviewBeerIDs]\n",
    "newBeerDF = newBeerDF.set_index([\"beer_beerid\"])\n",
    "newBeerDF = newBeerDF.drop(discardBeerIDs)\n",
    "\n",
    "#drop other labels and leave only few for visualization\n",
    "newBeerDF = newBeerDF.drop(['brewery_id','review_time', 'review_overall','review_aroma','review_taste',\n",
    "                    'review_palate','review_profilename','beer_abv','review_appearance'], axis=1)"
   ]
  },
  {
   "cell_type": "code",
   "execution_count": null,
   "metadata": {
    "collapsed": true
   },
   "outputs": [],
   "source": [
    "# Create a column review_overall with values from sampleMeans\n",
    "review_overall = []\n",
    "for beerIndex in newBeerDF.index.tolist():\n",
    "    for keyIndex in range(len(sampleMeans)):\n",
    "        if sampleMeans[keyIndex][0] == beerIndex:\n",
    "            review_overall.append(sampleMeans[keyIndex][1])\n",
    "\n",
    "# add the column review_overall values from sampleMeans list\n",
    "newBeerDF['review_overall'] = review_overall"
   ]
  },
  {
   "cell_type": "markdown",
   "metadata": {},
   "source": [
    "### Print the top ten beers in the list - General Recommendations"
   ]
  },
  {
   "cell_type": "code",
   "execution_count": null,
   "metadata": {
    "collapsed": false,
    "scrolled": true
   },
   "outputs": [],
   "source": [
    "# sort the dataframe by overall reviews and print the top ten beers in the list\n",
    "newBeerDF = newBeerDF.sort_values(by='review_overall', ascending=False)\n",
    "newBeerDF.head(10)"
   ]
  },
  {
   "cell_type": "markdown",
   "metadata": {},
   "source": [
    "## Feature importance\n",
    "\n",
    "### Find out which features are important in determining the overall quality of the beer\n",
    "\n",
    "In the reviews data set, we have four features listed for each beer: Appearance (or body), Aroma, Palate and Taste\n",
    "\n",
    "Here we will try to correlate the overall rating for a given beer with each of the four features and then decide which of the above four features is the most important in determining the overall quality of the beer.\n",
    "\n",
    "Since there are many users(reviewers) for each beer and the ratings are spread within a certain range of values, we will use the Samplemeans of the ratings for each beer as a representative value to develop correlation between features and overall rating. \n",
    "\n",
    "We can use two approaches: \n",
    "1. Compare the standardized $R^2$ values from the four features and rank them\n",
    "2. Starting with a model with n-1 features, compare the $\\Delta$ in $R^2$ when the left out feature is added and then chose the feature that results in the greatest $\\Delta$\n",
    "\n",
    "#### Data Cleaning \n",
    "We will use the same procedure for cleaning data and chosing sample means for building data and features. "
   ]
  },
  {
   "cell_type": "code",
   "execution_count": null,
   "metadata": {
    "collapsed": true
   },
   "outputs": [],
   "source": [
    "# Features and Data Matrix\n",
    "# Create a new dataframe with the relevant features and other columns\n",
    "featureDF = beerData[[\"beer_beerid\", \"review_profilename\",'review_appearance','review_aroma', \n",
    "                      'review_palate','review_taste','review_overall']]\n",
    "featureDF = featureDF.drop_duplicates([\"beer_beerid\",\"review_profilename\"])\n",
    "featureDF = featureDF.set_index(\"beer_beerid\")\n",
    "\n",
    "# discard the beers that didn't meet our screening criterion of 95% confidence level\n",
    "# discardBeerIDs are taken from above\n",
    "featureDF = featureDF.drop(discardBeerIDs)\n",
    "featureDF = featureDF.reset_index()\n",
    "\n",
    "# Make the list of all beers that pass the screenign criterion.\n",
    "beerIDList = sorted(featureDF.beer_beerid.unique())\n",
    "\n",
    "# Reindex the dataframe for extracting features.\n",
    "featureDF = featureDF.set_index([\"beer_beerid\",\"review_profilename\"])\n",
    "\n",
    "#Debug Info:\n",
    "    #print(len(beerIDList),len(profileList))"
   ]
  },
  {
   "cell_type": "code",
   "execution_count": null,
   "metadata": {
    "collapsed": false
   },
   "outputs": [],
   "source": [
    "# Means and Standard deviation\n",
    "featuresDict = featureDF.groupby(level=0).mean().to_dict()\n",
    "\n",
    "#Appearance\n",
    "appearanceSampleMeans = featuresDict['review_appearance']\n",
    "#Aroma\n",
    "aromaSampleMeans = featuresDict['review_aroma']\n",
    "#Palate\n",
    "palateSampleMeans = featuresDict['review_palate']\n",
    "#Taste\n",
    "tasteSampleMeans = featuresDict['review_taste']\n",
    "#Overall review for Data Matrix\n",
    "reviewSampleMeans = featuresDict['review_overall']\n",
    "\n",
    "# Construct a numpy matrix with features Sample Means\n",
    "featureMatrix = np.zeros(len(beerIDList*5)).reshape(len(beerIDList),5)\n",
    "featuresMeansDicts = [appearanceSampleMeans,aromaSampleMeans,\n",
    "                      palateSampleMeans,tasteSampleMeans]\n",
    "\n",
    "# Populate the first element of the feature matrix with beerID\n",
    "for beerIndex in range(len(beerIDList)):\n",
    "    featureMatrix[beerIndex][0] = beerIDList[beerIndex]\n",
    "    \n",
    "featureIndex = 1 # feature index in feature Matrix\n",
    "for featureDict in featuresMeansDicts:\n",
    "    for beerIndex in range(len(beerIDList)):\n",
    "        for key in featureDict.keys():\n",
    "            if key == beerIDList[beerIndex]:\n",
    "                featureMatrix[beerIndex][featureIndex] = featureDict[key]\n",
    "    featureIndex += 1\n",
    "\n",
    "# Construct the dataMatrix with Sample Means of overall review\n",
    "dataMatrix = np.zeros(len(beerIDList*2)).reshape(len(beerIDList),2)\n",
    "\n",
    "# Populate the first element of the Data matrix with beerID\n",
    "# Second element with the overall review\n",
    "#for beerIndex in range(len(beerIDList)):\n",
    "#    dataMatrix[beerIndex][0] = beerIDList[beerIndex]\n",
    "\n",
    "for beerIndex in range(len(beerIDList)):\n",
    "    dataMatrix[beerIndex][0] = beerIDList[beerIndex]\n",
    "    for key in reviewSampleMeans.keys():\n",
    "        if key == beerIDList[beerIndex]:\n",
    "            dataMatrix[beerIndex][1] = reviewSampleMeans[key]     "
   ]
  },
  {
   "cell_type": "markdown",
   "metadata": {},
   "source": []
  },
  {
   "cell_type": "code",
   "execution_count": null,
   "metadata": {
    "collapsed": false
   },
   "outputs": [],
   "source": [
    "import sklearn\n",
    "from sklearn.preprocessing import StandardScaler\n",
    "from sklearn.linear_model import LinearRegression\n",
    "import matplotlib.pyplot as plt\n",
    "from matplotlib import style\n",
    "style.use('ggplot')\n",
    "fig = plt.figure(figsize=(10,10))\n",
    "\n",
    "X = np.array([featureMatrix[i][1:] for i in range(featureMatrix.shape[0])])\n",
    "# Standardize the feature matrix: subtract mean and make it unit variance. $X = \\frac{X-\\mu}{\\sigma}$\n",
    "X = StandardScaler().fit_transform(X) \n",
    "y = np.array([dataMatrix[i][1] for i in range(dataMatrix.shape[0])])\n",
    "\n",
    "# Transpose to index individual columns\n",
    "X = X.T\n",
    "\n",
    "for index in range(4):\n",
    "    X_feature = X[index]\n",
    "    X_feature = X_feature[:,np.newaxis]\n",
    "    regressor = LinearRegression()\n",
    "    regressor.fit(X_feature, y)\n",
    "    score = regressor.score(X_feature,y)\n",
    "    xMin = X_feature.min() * regressor.coef_[0] + regressor.intercept_\n",
    "    xMax = X_feature.max() * regressor.coef_[0] + regressor.intercept_\n",
    "    \n",
    "    ax = fig.add_subplot(2,2,index+1)\n",
    "    ax.plot([X_feature.min(), X_feature.max()], [xMin, xMax],linewidth=3.0, color='k')\n",
    "    ax.plot(X[index], y, 'ro')\n",
    "\n",
    "    if index == 0:\n",
    "        ax.set_ylabel('Appearance')\n",
    "        ax.text(0,2,'$R^2$ = %.2f'%score)\n",
    "    elif index == 1:\n",
    "        ax.set_ylabel('Aroma')\n",
    "        ax.text(0,2,'$R^2$ = %.2f'%score)\n",
    "    elif index == 2:\n",
    "        ax.set_ylabel('Palate')\n",
    "        ax.text(0,2,'$R^2$ = %.2f'%score)\n",
    "    else:\n",
    "        ax.set_ylabel('Taste')\n",
    "        ax.text(0,2,'$R^2$ = %.2f'%score)\n"
   ]
  },
  {
   "cell_type": "markdown",
   "metadata": {},
   "source": []
  },
  {
   "cell_type": "code",
   "execution_count": null,
   "metadata": {
    "collapsed": false
   },
   "outputs": [],
   "source": [
    "features = {0:\"Appearance\",1:\"Aroma\",2:\"Palate\",3:\"Taste\"}\n",
    "deltaR2 = []\n",
    "for index in range(4):\n",
    "    X_feature = np.delete(X.T,index,axis=1)\n",
    "    regressor = LinearRegression()\n",
    "    regressor.fit(X_feature, y)\n",
    "    scoreOne = regressor.score(X_feature,y)\n",
    "    regressor.fit(X.T, y)\n",
    "    scoreTwo = regressor.score(X.T,y)\n",
    "    deltaR2.append(scoreTwo - scoreOne)\n",
    "    print(\"Change in $R^2$ value upon including \", features[index],\" = \", \"%.3f\"%deltaR2[index])\n",
    "    \n",
    "    "
   ]
  },
  {
   "cell_type": "code",
   "execution_count": null,
   "metadata": {
    "collapsed": false
   },
   "outputs": [],
   "source": [
    "fig = plt.figure(figsize=(6,2))\n",
    "ax = fig.add_subplot(111)\n",
    "width = 0.5\n",
    "ax.bar(list(features.keys()), deltaR2, width, color='r')\n",
    "ax.set_xticks([i+width*0.5 for i in list(features.keys())])\n",
    "ax.set_xticklabels(('Appearance', 'Aroma', 'Palate', 'Taste'))\n",
    "ax.set_xlabel(\"Beer Charateristics\")\n",
    "ax.set_ylabel(\"$\\Delta R^2$\")\n",
    "ax.set_title(\"Feature Importance ($ \\propto \\Delta R^2$)\")"
   ]
  },
  {
   "cell_type": "code",
   "execution_count": null,
   "metadata": {
    "collapsed": true
   },
   "outputs": [],
   "source": []
  }
 ],
 "metadata": {
  "anaconda-cloud": {},
  "kernelspec": {
   "display_name": "Python [default]",
   "language": "python",
   "name": "python3"
  },
  "language_info": {
   "codemirror_mode": {
    "name": "ipython",
    "version": 3
   },
   "file_extension": ".py",
   "mimetype": "text/x-python",
   "name": "python",
   "nbconvert_exporter": "python",
   "pygments_lexer": "ipython3",
   "version": "3.5.2"
  }
 },
 "nbformat": 4,
 "nbformat_minor": 1
}
