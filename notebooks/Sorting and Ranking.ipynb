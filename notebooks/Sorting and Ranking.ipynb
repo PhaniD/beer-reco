{
 "cells": [
  {
   "cell_type": "markdown",
   "metadata": {},
   "source": [
    "# Data: 1.5M Beer Reviews from Beer Advocate\n",
    "(https://s3.amazonaws.com/demo-datasets/beer_reviews.tar.gz)"
   ]
  },
  {
   "cell_type": "markdown",
   "metadata": {},
   "source": [
    "## Import packages Numpy, Scikit Learn, Pandas and Seaborn"
   ]
  },
  {
   "cell_type": "code",
   "execution_count": 1,
   "metadata": {
    "collapsed": true
   },
   "outputs": [],
   "source": [
    "%matplotlib inline\n",
    "import os\n",
    "import numpy as np\n",
    "import sklearn\n",
    "import pandas as pd\n",
    "import seaborn as sns\n",
    "import warnings\n",
    "sns.set()"
   ]
  },
  {
   "cell_type": "markdown",
   "metadata": {},
   "source": [
    "## Import CSV file into a DataFrame"
   ]
  },
  {
   "cell_type": "code",
   "execution_count": 2,
   "metadata": {
    "collapsed": false
   },
   "outputs": [
    {
     "data": {
      "text/plain": [
       "Index(['brewery_id', 'brewery_name', 'review_time', 'review_overall',\n",
       "       'review_aroma', 'review_appearance', 'review_profilename', 'beer_style',\n",
       "       'review_palate', 'review_taste', 'beer_name', 'beer_abv',\n",
       "       'beer_beerid'],\n",
       "      dtype='object')"
      ]
     },
     "execution_count": 2,
     "metadata": {},
     "output_type": "execute_result"
    }
   ],
   "source": [
    "dir_path = os.path.dirname(os.path.abspath('__file__'))\n",
    "file_path = os.path.join(dir_path, 'beer_reviews.csv')\n",
    "beer_data = pd.read_csv(file_path, delimiter=',', encoding='utf-8')\n",
    "beer_data.columns"
   ]
  },
  {
   "cell_type": "markdown",
   "metadata": {},
   "source": [
    "## Split the data into multiple DataFrames\n",
    "1. Drop any column that is not very informative. Example: \"review_time\", \"brewery_id\" \n",
    "2. Make a dictionary with individual DataFrames\n",
    "    \n",
    "    Example:\n",
    "    ```\n",
    "    {\n",
    "        'review_overall': pd.DataFrame([1.5, 3.0,..,4.5]),\n",
    "        ...\n",
    "    }\n",
    "    ```"
   ]
  },
  {
   "cell_type": "code",
   "execution_count": 3,
   "metadata": {
    "collapsed": false,
    "scrolled": false
   },
   "outputs": [
    {
     "data": {
      "text/html": [
       "<div>\n",
       "<style>\n",
       "    .dataframe thead tr:only-child th {\n",
       "        text-align: right;\n",
       "    }\n",
       "\n",
       "    .dataframe thead th {\n",
       "        text-align: left;\n",
       "    }\n",
       "\n",
       "    .dataframe tbody tr th {\n",
       "        vertical-align: top;\n",
       "    }\n",
       "</style>\n",
       "<table border=\"1\" class=\"dataframe\">\n",
       "  <thead>\n",
       "    <tr style=\"text-align: right;\">\n",
       "      <th></th>\n",
       "      <th>brewery_name</th>\n",
       "      <th>review_overall</th>\n",
       "      <th>review_aroma</th>\n",
       "      <th>review_appearance</th>\n",
       "      <th>review_profilename</th>\n",
       "      <th>beer_style</th>\n",
       "      <th>review_palate</th>\n",
       "      <th>review_taste</th>\n",
       "      <th>beer_name</th>\n",
       "      <th>beer_abv</th>\n",
       "      <th>beer_beerid</th>\n",
       "    </tr>\n",
       "  </thead>\n",
       "  <tbody>\n",
       "    <tr>\n",
       "      <th>0</th>\n",
       "      <td>Vecchio Birraio</td>\n",
       "      <td>1.5</td>\n",
       "      <td>2.0</td>\n",
       "      <td>2.5</td>\n",
       "      <td>stcules</td>\n",
       "      <td>Hefeweizen</td>\n",
       "      <td>1.5</td>\n",
       "      <td>1.5</td>\n",
       "      <td>Sausa Weizen</td>\n",
       "      <td>5.0</td>\n",
       "      <td>47986</td>\n",
       "    </tr>\n",
       "    <tr>\n",
       "      <th>1</th>\n",
       "      <td>Vecchio Birraio</td>\n",
       "      <td>3.0</td>\n",
       "      <td>2.5</td>\n",
       "      <td>3.0</td>\n",
       "      <td>stcules</td>\n",
       "      <td>English Strong Ale</td>\n",
       "      <td>3.0</td>\n",
       "      <td>3.0</td>\n",
       "      <td>Red Moon</td>\n",
       "      <td>6.2</td>\n",
       "      <td>48213</td>\n",
       "    </tr>\n",
       "    <tr>\n",
       "      <th>2</th>\n",
       "      <td>Vecchio Birraio</td>\n",
       "      <td>3.0</td>\n",
       "      <td>2.5</td>\n",
       "      <td>3.0</td>\n",
       "      <td>stcules</td>\n",
       "      <td>Foreign / Export Stout</td>\n",
       "      <td>3.0</td>\n",
       "      <td>3.0</td>\n",
       "      <td>Black Horse Black Beer</td>\n",
       "      <td>6.5</td>\n",
       "      <td>48215</td>\n",
       "    </tr>\n",
       "    <tr>\n",
       "      <th>3</th>\n",
       "      <td>Vecchio Birraio</td>\n",
       "      <td>3.0</td>\n",
       "      <td>3.0</td>\n",
       "      <td>3.5</td>\n",
       "      <td>stcules</td>\n",
       "      <td>German Pilsener</td>\n",
       "      <td>2.5</td>\n",
       "      <td>3.0</td>\n",
       "      <td>Sausa Pils</td>\n",
       "      <td>5.0</td>\n",
       "      <td>47969</td>\n",
       "    </tr>\n",
       "    <tr>\n",
       "      <th>4</th>\n",
       "      <td>Caldera Brewing Company</td>\n",
       "      <td>4.0</td>\n",
       "      <td>4.5</td>\n",
       "      <td>4.0</td>\n",
       "      <td>johnmichaelsen</td>\n",
       "      <td>American Double / Imperial IPA</td>\n",
       "      <td>4.0</td>\n",
       "      <td>4.5</td>\n",
       "      <td>Cauldron DIPA</td>\n",
       "      <td>7.7</td>\n",
       "      <td>64883</td>\n",
       "    </tr>\n",
       "  </tbody>\n",
       "</table>\n",
       "</div>"
      ],
      "text/plain": [
       "              brewery_name  review_overall  review_aroma  review_appearance  \\\n",
       "0          Vecchio Birraio             1.5           2.0                2.5   \n",
       "1          Vecchio Birraio             3.0           2.5                3.0   \n",
       "2          Vecchio Birraio             3.0           2.5                3.0   \n",
       "3          Vecchio Birraio             3.0           3.0                3.5   \n",
       "4  Caldera Brewing Company             4.0           4.5                4.0   \n",
       "\n",
       "  review_profilename                      beer_style  review_palate  \\\n",
       "0            stcules                      Hefeweizen            1.5   \n",
       "1            stcules              English Strong Ale            3.0   \n",
       "2            stcules          Foreign / Export Stout            3.0   \n",
       "3            stcules                 German Pilsener            2.5   \n",
       "4     johnmichaelsen  American Double / Imperial IPA            4.0   \n",
       "\n",
       "   review_taste               beer_name  beer_abv  beer_beerid  \n",
       "0           1.5            Sausa Weizen       5.0        47986  \n",
       "1           3.0                Red Moon       6.2        48213  \n",
       "2           3.0  Black Horse Black Beer       6.5        48215  \n",
       "3           3.0              Sausa Pils       5.0        47969  \n",
       "4           4.5           Cauldron DIPA       7.7        64883  "
      ]
     },
     "execution_count": 3,
     "metadata": {},
     "output_type": "execute_result"
    }
   ],
   "source": [
    "beer_data.drop(['brewery_id', 'review_time'], axis=1, inplace=True)\n",
    "beer_data.head()"
   ]
  },
  {
   "cell_type": "code",
   "execution_count": 4,
   "metadata": {
    "collapsed": false
   },
   "outputs": [],
   "source": [
    "reviews = dict()\n",
    "for col in beer_data.columns:\n",
    "    reviews.update({\n",
    "            col:beer_data[col]\n",
    "        })"
   ]
  },
  {
   "cell_type": "markdown",
   "metadata": {},
   "source": [
    "## Visualize Data"
   ]
  },
  {
   "cell_type": "code",
   "execution_count": 8,
   "metadata": {
    "collapsed": false
   },
   "outputs": [
    {
     "data": {
      "image/png": "[encoded data removed]",
      "text/plain": [
       "<matplotlib.figure.Figure at 0x1045d0c18>"
      ]
     },
     "metadata": {},
     "output_type": "display_data"
    }
   ],
   "source": [
    "import matplotlib.pyplot as plt\n",
    "plt.style.use('seaborn-whitegrid')\n",
    "_reviews = ['review_overall', 'review_aroma', 'review_appearance', 'review_palate', 'review_taste']\n",
    "beer_reviews = beer_data[_reviews].dropna(axis=1)\n",
    "beer_reviews.head()\n",
    "\n",
    "fig, ax = plt.subplots(ncols=4, figsize = (20,5))\n",
    "colors = ['r', 'g', 'b', 'k', 'm']\n",
    "for idx, head in enumerate(_reviews[1:]):\n",
    "    plt.subplot(1, len(_reviews[1:]), idx+1)\n",
    "    plt.ylim(0,7e+05)\n",
    "    plt.xlabel(head.split('_')[1])\n",
    "    plt.ylabel('Number of Reviews')\n",
    "    plt.hist(beer_reviews[head], bins=np.linspace(0, 5, 10), color=colors[idx])\n",
    "plt.tight_layout(h_pad=1.0)"
   ]
  },
  {
   "cell_type": "markdown",
   "metadata": {},
   "source": [
    "\n",
    "## Simple Analytics\n",
    "## Which brewery produces the strongest beers by ABV% ?\n",
    "\n",
    "### Step1: Data Cleaning\n",
    "- Extract ABV% data \n",
    "- Remove undefined values or \"NaN\" \n",
    "- Remove duplicates. More than one users have rated the beers (duplicate abv% values). However, for sorting and ranking, these things don't matter.\n",
    "\n",
    "### Step2: Sorting and Ranking\n",
    "- Sort the data in \"beer_abv\" column in descending order\n",
    "- Pick the top one in the list with highest ABV\n",
    "\n",
    "### Step3: Display Results\n",
    "- Get other identifiers associated with that beer, Beer Name, Beer Style, Brewery Name etc.\n",
    "- Additional Info: Display all the beers produced by that brewery"
   ]
  },
  {
   "cell_type": "code",
   "execution_count": 10,
   "metadata": {
    "collapsed": false,
    "scrolled": true
   },
   "outputs": [
    {
     "data": {
      "text/html": [
       "<div>\n",
       "<style>\n",
       "    .dataframe thead tr:only-child th {\n",
       "        text-align: right;\n",
       "    }\n",
       "\n",
       "    .dataframe thead th {\n",
       "        text-align: left;\n",
       "    }\n",
       "\n",
       "    .dataframe tbody tr th {\n",
       "        vertical-align: top;\n",
       "    }\n",
       "</style>\n",
       "<table border=\"1\" class=\"dataframe\">\n",
       "  <thead>\n",
       "    <tr style=\"text-align: right;\">\n",
       "      <th></th>\n",
       "      <th>brewery_name</th>\n",
       "      <th>beer_name</th>\n",
       "      <th>beer_beerid</th>\n",
       "      <th>beer_style</th>\n",
       "      <th>beer_abv</th>\n",
       "    </tr>\n",
       "  </thead>\n",
       "  <tbody>\n",
       "    <tr>\n",
       "      <th>12919</th>\n",
       "      <td>Schorschbräu</td>\n",
       "      <td>Schorschbräu Schorschbock 57%</td>\n",
       "      <td>73368</td>\n",
       "      <td>Eisbock</td>\n",
       "      <td>57.70</td>\n",
       "    </tr>\n",
       "    <tr>\n",
       "      <th>12939</th>\n",
       "      <td>Schorschbräu</td>\n",
       "      <td>Schorschbräu Schorschbock 43%</td>\n",
       "      <td>57856</td>\n",
       "      <td>Eisbock</td>\n",
       "      <td>43.00</td>\n",
       "    </tr>\n",
       "    <tr>\n",
       "      <th>746310</th>\n",
       "      <td>BrewDog</td>\n",
       "      <td>Sink The Bismarck!</td>\n",
       "      <td>57015</td>\n",
       "      <td>American Double / Imperial IPA</td>\n",
       "      <td>41.00</td>\n",
       "    </tr>\n",
       "    <tr>\n",
       "      <th>12934</th>\n",
       "      <td>Schorschbräu</td>\n",
       "      <td>Schorschbräu Schorschbock 40%</td>\n",
       "      <td>55712</td>\n",
       "      <td>Eisbock</td>\n",
       "      <td>39.44</td>\n",
       "    </tr>\n",
       "    <tr>\n",
       "      <th>996149</th>\n",
       "      <td>De Struise Brouwers</td>\n",
       "      <td>Black Damnation VI - Messy</td>\n",
       "      <td>70633</td>\n",
       "      <td>American Double / Imperial Stout</td>\n",
       "      <td>39.00</td>\n",
       "    </tr>\n",
       "  </tbody>\n",
       "</table>\n",
       "</div>"
      ],
      "text/plain": [
       "               brewery_name                      beer_name  beer_beerid  \\\n",
       "12919          Schorschbräu  Schorschbräu Schorschbock 57%        73368   \n",
       "12939          Schorschbräu  Schorschbräu Schorschbock 43%        57856   \n",
       "746310              BrewDog             Sink The Bismarck!        57015   \n",
       "12934          Schorschbräu  Schorschbräu Schorschbock 40%        55712   \n",
       "996149  De Struise Brouwers     Black Damnation VI - Messy        70633   \n",
       "\n",
       "                              beer_style  beer_abv  \n",
       "12919                            Eisbock     57.70  \n",
       "12939                            Eisbock     43.00  \n",
       "746310    American Double / Imperial IPA     41.00  \n",
       "12934                            Eisbock     39.44  \n",
       "996149  American Double / Imperial Stout     39.00  "
      ]
     },
     "execution_count": 10,
     "metadata": {},
     "output_type": "execute_result"
    }
   ],
   "source": [
    "_attribs = ['beer_style', 'beer_abv']\n",
    "_ids = ['brewery_name', 'beer_name', 'beer_beerid']\n",
    "\n",
    "#New DataFrame with identifiers and attributes\n",
    "beer_abvs = beer_data[_ids + _attribs]\n",
    "\n",
    "#Drop any rows with NaN\n",
    "beer_abvs = beer_abvs.dropna()\n",
    "\n",
    "#Drop duplicates and sort values by ABV%\n",
    "beer_abvs = beer_abvs.drop_duplicates('beer_beerid').sort_values(by=\"beer_abv\", ascending=False)\n",
    "\n",
    "#Display\n",
    "beer_abvs.head()"
   ]
  },
  {
   "cell_type": "code",
   "execution_count": 11,
   "metadata": {
    "collapsed": false,
    "scrolled": true
   },
   "outputs": [
    {
     "data": {
      "text/html": [
       "<div>\n",
       "<style>\n",
       "    .dataframe thead tr:only-child th {\n",
       "        text-align: right;\n",
       "    }\n",
       "\n",
       "    .dataframe thead th {\n",
       "        text-align: left;\n",
       "    }\n",
       "\n",
       "    .dataframe tbody tr th {\n",
       "        vertical-align: top;\n",
       "    }\n",
       "</style>\n",
       "<table border=\"1\" class=\"dataframe\">\n",
       "  <thead>\n",
       "    <tr style=\"text-align: right;\">\n",
       "      <th></th>\n",
       "      <th>brewery_name</th>\n",
       "      <th>beer_name</th>\n",
       "      <th>beer_beerid</th>\n",
       "      <th>beer_style</th>\n",
       "      <th>beer_abv</th>\n",
       "    </tr>\n",
       "  </thead>\n",
       "  <tbody>\n",
       "    <tr>\n",
       "      <th>12919</th>\n",
       "      <td>Schorschbräu</td>\n",
       "      <td>Schorschbräu Schorschbock 57%</td>\n",
       "      <td>73368</td>\n",
       "      <td>Eisbock</td>\n",
       "      <td>57.70</td>\n",
       "    </tr>\n",
       "    <tr>\n",
       "      <th>12939</th>\n",
       "      <td>Schorschbräu</td>\n",
       "      <td>Schorschbräu Schorschbock 43%</td>\n",
       "      <td>57856</td>\n",
       "      <td>Eisbock</td>\n",
       "      <td>43.00</td>\n",
       "    </tr>\n",
       "    <tr>\n",
       "      <th>12934</th>\n",
       "      <td>Schorschbräu</td>\n",
       "      <td>Schorschbräu Schorschbock 40%</td>\n",
       "      <td>55712</td>\n",
       "      <td>Eisbock</td>\n",
       "      <td>39.44</td>\n",
       "    </tr>\n",
       "    <tr>\n",
       "      <th>12918</th>\n",
       "      <td>Schorschbräu</td>\n",
       "      <td>Schorschbräu Schorschbock 31%</td>\n",
       "      <td>51466</td>\n",
       "      <td>Eisbock</td>\n",
       "      <td>30.86</td>\n",
       "    </tr>\n",
       "    <tr>\n",
       "      <th>12917</th>\n",
       "      <td>Schorschbräu</td>\n",
       "      <td>Schorsch Weizen 16%</td>\n",
       "      <td>71004</td>\n",
       "      <td>Weizenbock</td>\n",
       "      <td>16.00</td>\n",
       "    </tr>\n",
       "    <tr>\n",
       "      <th>12911</th>\n",
       "      <td>Schorschbräu</td>\n",
       "      <td>Schorschbock</td>\n",
       "      <td>47421</td>\n",
       "      <td>Doppelbock</td>\n",
       "      <td>16.00</td>\n",
       "    </tr>\n",
       "    <tr>\n",
       "      <th>12928</th>\n",
       "      <td>Schorschbräu</td>\n",
       "      <td>Schorschbräu Donner Weizen</td>\n",
       "      <td>20169</td>\n",
       "      <td>Weizenbock</td>\n",
       "      <td>13.00</td>\n",
       "    </tr>\n",
       "    <tr>\n",
       "      <th>12914</th>\n",
       "      <td>Schorschbräu</td>\n",
       "      <td>Schorschbräu Donner Bock</td>\n",
       "      <td>15578</td>\n",
       "      <td>Doppelbock</td>\n",
       "      <td>13.00</td>\n",
       "    </tr>\n",
       "    <tr>\n",
       "      <th>12910</th>\n",
       "      <td>Schorschbräu</td>\n",
       "      <td>Schorschbock Ice 13</td>\n",
       "      <td>73357</td>\n",
       "      <td>Eisbock</td>\n",
       "      <td>13.00</td>\n",
       "    </tr>\n",
       "    <tr>\n",
       "      <th>12909</th>\n",
       "      <td>Schorschbräu</td>\n",
       "      <td>Schorschbräu Dunkles</td>\n",
       "      <td>32973</td>\n",
       "      <td>Munich Dunkel Lager</td>\n",
       "      <td>4.90</td>\n",
       "    </tr>\n",
       "  </tbody>\n",
       "</table>\n",
       "</div>"
      ],
      "text/plain": [
       "       brewery_name                      beer_name  beer_beerid  \\\n",
       "12919  Schorschbräu  Schorschbräu Schorschbock 57%        73368   \n",
       "12939  Schorschbräu  Schorschbräu Schorschbock 43%        57856   \n",
       "12934  Schorschbräu  Schorschbräu Schorschbock 40%        55712   \n",
       "12918  Schorschbräu  Schorschbräu Schorschbock 31%        51466   \n",
       "12917  Schorschbräu            Schorsch Weizen 16%        71004   \n",
       "12911  Schorschbräu                   Schorschbock        47421   \n",
       "12928  Schorschbräu     Schorschbräu Donner Weizen        20169   \n",
       "12914  Schorschbräu       Schorschbräu Donner Bock        15578   \n",
       "12910  Schorschbräu            Schorschbock Ice 13        73357   \n",
       "12909  Schorschbräu           Schorschbräu Dunkles        32973   \n",
       "\n",
       "                beer_style  beer_abv  \n",
       "12919              Eisbock     57.70  \n",
       "12939              Eisbock     43.00  \n",
       "12934              Eisbock     39.44  \n",
       "12918              Eisbock     30.86  \n",
       "12917           Weizenbock     16.00  \n",
       "12911           Doppelbock     16.00  \n",
       "12928           Weizenbock     13.00  \n",
       "12914           Doppelbock     13.00  \n",
       "12910              Eisbock     13.00  \n",
       "12909  Munich Dunkel Lager      4.90  "
      ]
     },
     "execution_count": 11,
     "metadata": {},
     "output_type": "execute_result"
    }
   ],
   "source": [
    "brewery_name = beer_abvs.iloc[0].brewery_name\n",
    "\n",
    "# Get all the beers produced by that brewery\n",
    "brews = beer_abvs[beer_abvs.brewery_name == brewery_name]\n",
    "\n",
    "#Display brews\n",
    "brews"
   ]
  },
  {
   "cell_type": "markdown",
   "metadata": {},
   "source": [
    "## Visualize Brews"
   ]
  },
  {
   "cell_type": "code",
   "execution_count": 12,
   "metadata": {
    "collapsed": false
   },
   "outputs": [
    {
     "data": {
      "text/plain": [
       "<seaborn.axisgrid.PairGrid at 0x1125cc518>"
      ]
     },
     "execution_count": 12,
     "metadata": {},
     "output_type": "execute_result"
    },
    {
     "data": {
      "image/png": "[encoded data removed]",
      "text/plain": [
       "<matplotlib.figure.Figure at 0x1109db7b8>"
      ]
     },
     "metadata": {},
     "output_type": "display_data"
    }
   ],
   "source": [
    "warnings.filterwarnings('ignore')\n",
    "abvs = brews[['beer_name', 'beer_abv', 'beer_style']]\n",
    "abvs['id'] = np.linspace(1,len(abvs), len(abvs))\n",
    "sns.pairplot(data=abvs, hue='beer_style', size=3.5)"
   ]
  }
 ],
 "metadata": {
  "anaconda-cloud": {},
  "kernelspec": {
   "display_name": "Python [default]",
   "language": "python",
   "name": "python3"
  },
  "language_info": {
   "codemirror_mode": {
    "name": "ipython",
    "version": 3
   },
   "file_extension": ".py",
   "mimetype": "text/x-python",
   "name": "python",
   "nbconvert_exporter": "python",
   "pygments_lexer": "ipython3",
   "version": "3.5.2"
  }
 },
 "nbformat": 4,
 "nbformat_minor": 1
}
