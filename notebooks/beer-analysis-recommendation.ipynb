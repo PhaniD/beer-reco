{
 "cells": [
  {
   "cell_type": "markdown",
   "metadata": {},
   "source": [
    "# Test Project: Beer Reviews Analysis and Recommendation\n",
    "\n",
    "Data: 1.5M beer reviews from beer advocate. (https://s3.amazonaws.com/demo-datasets/beer_reviews.tar.gz)\n",
    "\n"
   ]
  },
  {
   "cell_type": "code",
   "execution_count": 1,
   "metadata": {
    "collapsed": true
   },
   "outputs": [],
   "source": [
    "%matplotlib inline"
   ]
  },
  {
   "cell_type": "markdown",
   "metadata": {},
   "source": [
    "### Import packages Numpy, Scikit Learn and Pandas"
   ]
  },
  {
   "cell_type": "code",
   "execution_count": 2,
   "metadata": {
    "collapsed": true
   },
   "outputs": [],
   "source": [
    "import numpy as np\n",
    "import sklearn\n",
    "import pandas as pd"
   ]
  },
  {
   "cell_type": "markdown",
   "metadata": {},
   "source": [
    "Read in the \"csv\" file with reviews into a pandas \"data frame\". Pandas has this nice reader that can read a bunch of file formats and store the data in a \"data frame\""
   ]
  },
  {
   "cell_type": "code",
   "execution_count": 3,
   "metadata": {
    "collapsed": false
   },
   "outputs": [],
   "source": [
    "beer_data = pd.read_csv('/Users/phani/Downloads/beer_reviews/beer_reviews.csv', delimiter=\",\", encoding='utf-8')\n",
    "# download the revievs csv form the link above. Alternatively, use 'urlopen' and rebuild this command \n",
    "#to read the csv file after unzipping the response "
   ]
  },
  {
   "cell_type": "code",
   "execution_count": 4,
   "metadata": {
    "collapsed": false
   },
   "outputs": [
    {
     "name": "stdout",
     "output_type": "stream",
     "text": [
      "Column 0 :  brewery_id\n",
      "Column 1 :  brewery_name\n",
      "Column 2 :  review_time\n",
      "Column 3 :  review_overall\n",
      "Column 4 :  review_aroma\n",
      "Column 5 :  review_appearance\n",
      "Column 6 :  review_profilename\n",
      "Column 7 :  beer_style\n",
      "Column 8 :  review_palate\n",
      "Column 9 :  review_taste\n",
      "Column 10 :  beer_name\n",
      "Column 11 :  beer_abv\n",
      "Column 12 :  beer_beerid\n",
      "*************************\n",
      "Columns with Null Values\n",
      "Column Name:  brewery_name  Null Values:  15\n",
      "Column Name:  review_profilename  Null Values:  348\n",
      "Column Name:  beer_abv  Null Values:  67785\n"
     ]
    }
   ],
   "source": [
    "for i in range(len(beer_data.columns)):\n",
    "    print(\"Column\",i, \": \", beer_data.columns[i])\n",
    "\n",
    "print (\"*************************\")\n",
    "print(\"Columns with Null Values\")\n",
    "for column in beer_data.columns:\n",
    "    count = len(beer_data.loc[pd.isnull(beer_data[column])])\n",
    "    if count > 0 :\n",
    "       print (\"Column Name: \", column, \" Null Values: \", count)"
   ]
  },
  {
   "cell_type": "markdown",
   "metadata": {},
   "source": [
    "####  Q1.Which brewery produces the strongest beers by ABV% - simple idea is to rank breweries based on the abv% of the beers produced by them.\n",
    "\n",
    "The data in the csv file has some undefined (\"NaN\") values for abv%. More than one users have rated the beers (duplicate abv% values). For sorting and ranking, these things don't matter. This can be accomplished in two steps\n",
    "- make a copy\n",
    "- sort the data in \"beer_abv\" column in descending order\n",
    "- pick the brewery that produces beer with highest abv%."
   ]
  },
  {
   "cell_type": "markdown",
   "metadata": {},
   "source": [
    "#### Details of the beer with highest abv%"
   ]
  },
  {
   "cell_type": "code",
   "execution_count": 5,
   "metadata": {
    "collapsed": false,
    "scrolled": true
   },
   "outputs": [
    {
     "name": "stdout",
     "output_type": "stream",
     "text": [
      "Brewery Name:  Schorschbräu\n",
      "Beer Name:  Schorschbräu Schorschbock 57%\n",
      "Beer ABV%:  57.7\n",
      "Beer ID:  73368\n"
     ]
    }
   ],
   "source": [
    "beer_data_abv = beer_data.copy()\n",
    "beer_data_abv_sorted = beer_data_abv.sort_values(by=\"beer_abv\", ascending=False)\n",
    "beer_data_abv_sorted = beer_data_abv_sorted.drop_duplicates(\"beer_beerid\")\n",
    "beer_key = beer_data_abv_sorted[\"beer_abv\"].keys()[0]\n",
    "print (\"Brewery Name: \", beer_data_abv_sorted.loc[beer_key].brewery_name)\n",
    "print (\"Beer Name: \", beer_data_abv_sorted.loc[beer_key].beer_name)\n",
    "print (\"Beer ABV%: \", beer_data_abv_sorted.loc[beer_key].beer_abv)\n",
    "print (\"Beer ID: \", beer_data_abv_sorted.loc[beer_key].beer_beerid)"
   ]
  },
  {
   "cell_type": "markdown",
   "metadata": {},
   "source": [
    "#### Details of the top 5 beers sorted based on abv%"
   ]
  },
  {
   "cell_type": "code",
   "execution_count": 6,
   "metadata": {
    "collapsed": false
   },
   "outputs": [
    {
     "name": "stdout",
     "output_type": "stream",
     "text": [
      "Beer No. : 0\n",
      "Brewery Name:  Schorschbräu\n",
      "Beer Name:  Schorschbräu Schorschbock 57%\n",
      "Beer ABV%:  57.7\n",
      "Beer ID:  73368\n",
      "Beer No. : 1\n",
      "Brewery Name:  Schorschbräu\n",
      "Beer Name:  Schorschbräu Schorschbock 43%\n",
      "Beer ABV%:  43.0\n",
      "Beer ID:  57856\n",
      "Beer No. : 2\n",
      "Brewery Name:  BrewDog\n",
      "Beer Name:  Sink The Bismarck!\n",
      "Beer ABV%:  41.0\n",
      "Beer ID:  57015\n",
      "Beer No. : 3\n",
      "Brewery Name:  Schorschbräu\n",
      "Beer Name:  Schorschbräu Schorschbock 40%\n",
      "Beer ABV%:  39.44\n",
      "Beer ID:  55712\n",
      "Beer No. : 4\n",
      "Brewery Name:  De Struise Brouwers\n",
      "Beer Name:  Black Damnation VI - Messy\n",
      "Beer ABV%:  39.0\n",
      "Beer ID:  70633\n"
     ]
    },
    {
     "data": {
      "text/html": [
       "<div>\n",
       "<table border=\"1\" class=\"dataframe\">\n",
       "  <thead>\n",
       "    <tr style=\"text-align: right;\">\n",
       "      <th></th>\n",
       "      <th>brewery_name</th>\n",
       "      <th>beer_name</th>\n",
       "      <th>beer_abv</th>\n",
       "      <th>beer_beerid</th>\n",
       "    </tr>\n",
       "  </thead>\n",
       "  <tbody>\n",
       "    <tr>\n",
       "      <th>12919</th>\n",
       "      <td>Schorschbräu</td>\n",
       "      <td>Schorschbräu Schorschbock 57%</td>\n",
       "      <td>57.70</td>\n",
       "      <td>73368</td>\n",
       "    </tr>\n",
       "    <tr>\n",
       "      <th>12939</th>\n",
       "      <td>Schorschbräu</td>\n",
       "      <td>Schorschbräu Schorschbock 43%</td>\n",
       "      <td>43.00</td>\n",
       "      <td>57856</td>\n",
       "    </tr>\n",
       "    <tr>\n",
       "      <th>746385</th>\n",
       "      <td>BrewDog</td>\n",
       "      <td>Sink The Bismarck!</td>\n",
       "      <td>41.00</td>\n",
       "      <td>57015</td>\n",
       "    </tr>\n",
       "    <tr>\n",
       "      <th>12941</th>\n",
       "      <td>Schorschbräu</td>\n",
       "      <td>Schorschbräu Schorschbock 40%</td>\n",
       "      <td>39.44</td>\n",
       "      <td>55712</td>\n",
       "    </tr>\n",
       "    <tr>\n",
       "      <th>996153</th>\n",
       "      <td>De Struise Brouwers</td>\n",
       "      <td>Black Damnation VI - Messy</td>\n",
       "      <td>39.00</td>\n",
       "      <td>70633</td>\n",
       "    </tr>\n",
       "  </tbody>\n",
       "</table>\n",
       "</div>"
      ],
      "text/plain": [
       "               brewery_name                      beer_name  beer_abv  \\\n",
       "12919          Schorschbräu  Schorschbräu Schorschbock 57%     57.70   \n",
       "12939          Schorschbräu  Schorschbräu Schorschbock 43%     43.00   \n",
       "746385              BrewDog             Sink The Bismarck!     41.00   \n",
       "12941          Schorschbräu  Schorschbräu Schorschbock 40%     39.44   \n",
       "996153  De Struise Brouwers     Black Damnation VI - Messy     39.00   \n",
       "\n",
       "        beer_beerid  \n",
       "12919         73368  \n",
       "12939         57856  \n",
       "746385        57015  \n",
       "12941         55712  \n",
       "996153        70633  "
      ]
     },
     "execution_count": 6,
     "metadata": {},
     "output_type": "execute_result"
    }
   ],
   "source": [
    "for i in range(5):\n",
    "    beer_key = beer_data_abv_sorted[\"beer_abv\"].keys()[i]\n",
    "    print (\"Beer No. :\", i)\n",
    "    print (\"Brewery Name: \", beer_data_abv_sorted.loc[beer_key].brewery_name)\n",
    "    print (\"Beer Name: \", beer_data_abv_sorted.loc[beer_key].beer_name)\n",
    "    print (\"Beer ABV%: \", beer_data_abv_sorted.loc[beer_key].beer_abv)\n",
    "    print (\"Beer ID: \", beer_data_abv_sorted.loc[beer_key].beer_beerid)\n",
    "#beer_data_abv_sorted.set_index([\"beer_beerid\"])\n",
    "beer_data_abv_sorted[['brewery_name','beer_name', 'beer_abv','beer_beerid']][0:5]"
   ]
  },
  {
   "cell_type": "code",
   "execution_count": 7,
   "metadata": {
    "collapsed": false
   },
   "outputs": [
    {
     "data": {
      "image/png": "[encoded data removed]",
      "text/plain": [
       "<matplotlib.figure.Figure at 0x1229d0320>"
      ]
     },
     "metadata": {},
     "output_type": "display_data"
    }
   ],
   "source": [
    "import matplotlib.pyplot as plt\n",
    "from matplotlib.pyplot import axes\n",
    "from matplotlib import style\n",
    "style.use('ggplot') # I don't really know how it works.. I am going to learn about it\n",
    "#beer_data_abv_sorted = beer_data_abv_sorted.drop_duplicates(\"beer_beerid\")\n",
    "\n",
    "plt.plot(beer_data_abv_sorted[\"beer_abv\"].get_values(), linestyle=None, marker='o')\n",
    "plt.xlabel(\"beer_Index\")\n",
    "plt.ylabel(\"ABV%\")\n",
    "#plt.annotate()\n",
    "plt.axis([-5, 20, 0, 60]) # plotting first 20 beers\n",
    "plt.title (\"Not a good plot. No information\")\n",
    "plt.show()"
   ]
  },
  {
   "cell_type": "markdown",
   "metadata": {},
   "source": [
    "#### Q2. Recommend beers based on the data - Approach 1\n",
    "\n",
    "A simple ordering of data based on review_overall should give us a list with beers and their corresponding ranking in the list. \n",
    "\n",
    "Data: number of reviews are not same for all beers. Some have only one review where as others have more than one reviews. We will define a threshold to clean up the data and include the beers with number of reviews greater than the threshold. Here I chose the threshold as 5.\n",
    "\n",
    "The statistics way to chose the threshold number of reviews is to compute the minimum number of required reviews for a beer to predict the mean with a confidence interval of, lets say, 95%, is by calculating the formula ($\\frac{\\sigma^2 * Z^2}{m^2}$), where $\\sigma$ is the standard deviation of the sample, Z-score for a confidence interval of 95% is 1.96 and m is the allowed margin of error.   "
   ]
  },
  {
   "cell_type": "code",
   "execution_count": 8,
   "metadata": {
    "collapsed": false
   },
   "outputs": [],
   "source": [
    "df = beer_data[[\"beer_beerid\",\"beer_name\",\"review_overall\"]]\n",
    "df = df.set_index([\"beer_beerid\",\"beer_name\"])\n",
    "grouped = df.groupby(level=0)\n",
    "new_grouped = grouped.count()\n",
    "#new_grouped"
   ]
  },
  {
   "cell_type": "markdown",
   "metadata": {},
   "source": [
    "#### Q2. Recommend beers based on the data - Build a content-based recommendation system\n",
    "\n",
    "Data Matrix: Lets assume that ratings are correct and correlate with user preferences. Data matrix contains overall reviews and users data. We collect user info based on review_profilename. Hence, some data points with missing \"review_profilename\" are dropped from the data matrix. \n",
    "\n",
    "Features Matrix: Features matrix contains four features (aroma, palette, appearance, taste) rated by different users. We assume that the rating is proportional to their tastes. We will not use ABV% here as one of the feature. It has many undefined values that could shrink our feature set.\n",
    "\n",
    "We use linear regression with regularization to calculate the parameters that correlate features with overall rating. \n",
    "\n"
   ]
  },
  {
   "cell_type": "code",
   "execution_count": 9,
   "metadata": {
    "collapsed": false,
    "scrolled": true
   },
   "outputs": [
    {
     "name": "stdout",
     "output_type": "stream",
     "text": [
      "1518478\n",
      "1517728\n"
     ]
    }
   ],
   "source": [
    "# check for any NA values in four features\n",
    "beer_ratings = beer_data.dropna(how='any').loc[:,[\"beer_beerid\",\"review_overall\",\n",
    "                                                  \"review_taste\",\"review_aroma\",\n",
    "                                                 \"review_palate\",\"review_appearance\",\n",
    "                                                 \"review_profilename\"]]\n",
    "# Check for duplicate entries -  condition: same user, same rating and same beer_id\n",
    "print (len(beer_ratings)) #- before duplicates removed\n",
    "beer_ratings = beer_ratings.drop_duplicates()\n",
    "print (len(beer_ratings)) #- after removing duplicates"
   ]
  },
  {
   "cell_type": "code",
   "execution_count": 10,
   "metadata": {
    "collapsed": false
   },
   "outputs": [
    {
     "name": "stdout",
     "output_type": "stream",
     "text": [
      "1504037\n"
     ]
    }
   ],
   "source": [
    "beer_ratings = beer_ratings.drop_duplicates(subset=['beer_beerid','review_profilename'])\n",
    "print (len(beer_ratings)) #- after removing duplicates"
   ]
  },
  {
   "cell_type": "markdown",
   "metadata": {},
   "source": [
    "Create a data matrix (again a data frame) by rearranging the beer_ratings data frame using two indices and extracting the overall rating column"
   ]
  },
  {
   "cell_type": "code",
   "execution_count": 11,
   "metadata": {
    "collapsed": false
   },
   "outputs": [
    {
     "name": "stdout",
     "output_type": "stream",
     "text": [
      "1504037\n"
     ]
    }
   ],
   "source": [
    "#beer_ratings.set_index([\"beer_beerid\",\"review_profilename\"], inplace=True)\n",
    "# Set indices\n",
    "#beer_ratings.set_index(['beer_beerid','review_profilename'], inplace=True)\n",
    "#beer_ratings\n",
    "# Create a new dataframe which is our 'Data Matrix' that contains\n",
    "# beer IDs as rows, usernames as columns and overall reviews as datapoints\n",
    "# Some values are NA because all users didn't rate all beers\n",
    "#beer_datamatrix = beer_ratings.to_panel().review_overall\n",
    "#beer_datamatrix\n",
    "print (len(beer_ratings))\n",
    "#beer_ratings.to_csv(\"testdata.csv\")"
   ]
  },
  {
   "cell_type": "code",
   "execution_count": 23,
   "metadata": {
    "collapsed": false,
    "scrolled": false
   },
   "outputs": [
    {
     "name": "stdout",
     "output_type": "stream",
     "text": [
      "200\n"
     ]
    },
    {
     "ename": "TypeError",
     "evalue": "'numpy.float64' object does not support item assignment",
     "output_type": "error",
     "traceback": [
      "\u001b[0;31m---------------------------------------------------------------------------\u001b[0m",
      "\u001b[0;31mTypeError\u001b[0m                                 Traceback (most recent call last)",
      "\u001b[0;32m<ipython-input-23-b11e8ae56b65>\u001b[0m in \u001b[0;36m<module>\u001b[0;34m()\u001b[0m\n\u001b[1;32m     16\u001b[0m         \u001b[0;32mfor\u001b[0m \u001b[0mk\u001b[0m \u001b[0;32min\u001b[0m \u001b[0mrange\u001b[0m\u001b[0;34m(\u001b[0m\u001b[0mlen\u001b[0m\u001b[0;34m(\u001b[0m\u001b[0mdf_new\u001b[0m\u001b[0;34m.\u001b[0m\u001b[0mindex\u001b[0m\u001b[0;34m)\u001b[0m\u001b[0;34m)\u001b[0m\u001b[0;34m:\u001b[0m\u001b[0;34m\u001b[0m\u001b[0m\n\u001b[1;32m     17\u001b[0m             \u001b[0;32mif\u001b[0m \u001b[0;34m(\u001b[0m\u001b[0mset_beerids\u001b[0m\u001b[0;34m[\u001b[0m\u001b[0mi\u001b[0m\u001b[0;34m]\u001b[0m\u001b[0;34m,\u001b[0m\u001b[0mset_profiles\u001b[0m\u001b[0;34m[\u001b[0m\u001b[0mj\u001b[0m\u001b[0;34m]\u001b[0m\u001b[0;34m)\u001b[0m \u001b[0;34m==\u001b[0m \u001b[0mdf_new\u001b[0m\u001b[0;34m.\u001b[0m\u001b[0mindex\u001b[0m\u001b[0;34m[\u001b[0m\u001b[0mk\u001b[0m\u001b[0;34m]\u001b[0m\u001b[0;34m:\u001b[0m\u001b[0;34m\u001b[0m\u001b[0m\n\u001b[0;32m---> 18\u001b[0;31m                 \u001b[0mdataM_sub\u001b[0m\u001b[0;34m[\u001b[0m\u001b[0mi\u001b[0m\u001b[0;34m]\u001b[0m\u001b[0;34m[\u001b[0m\u001b[0mj\u001b[0m\u001b[0;34m]\u001b[0m \u001b[0;34m=\u001b[0m \u001b[0mdf_new\u001b[0m\u001b[0;34m.\u001b[0m\u001b[0mloc\u001b[0m\u001b[0;34m[\u001b[0m\u001b[0mdf_new\u001b[0m\u001b[0;34m.\u001b[0m\u001b[0mindex\u001b[0m\u001b[0;34m[\u001b[0m\u001b[0mk\u001b[0m\u001b[0;34m]\u001b[0m\u001b[0;34m]\u001b[0m\u001b[0;34m.\u001b[0m\u001b[0mtolist\u001b[0m\u001b[0;34m(\u001b[0m\u001b[0;34m)\u001b[0m\u001b[0;34m\u001b[0m\u001b[0m\n\u001b[0m\u001b[1;32m     19\u001b[0m \u001b[0;34m\u001b[0m\u001b[0m\n\u001b[1;32m     20\u001b[0m \u001b[0mprint\u001b[0m \u001b[0;34m(\u001b[0m\u001b[0mdataM_sub\u001b[0m\u001b[0;34m)\u001b[0m\u001b[0;34m\u001b[0m\u001b[0m\n",
      "\u001b[0;31mTypeError\u001b[0m: 'numpy.float64' object does not support item assignment"
     ]
    }
   ],
   "source": [
    "# Test code\n",
    "df = beer_ratings[:200]\n",
    "print (len(df.review_profilename))\n",
    "list_profiles = np.sort(df.review_profilename.tolist())\n",
    "set_profiles = list(set(list_profiles))\n",
    "list_beerids = np.sort(df.beer_beerid.tolist())\n",
    "set_beerids = list(set(list_beerids))\n",
    "dataM_sub = np.zeros(len(set_beerids) * len(set_profiles))\n",
    "dataM_sub.reshape(len(set_beerids), len(set_profiles))\n",
    "\n",
    "df_new = df.set_index([\"beer_beerid\",\"review_profilename\"])\n",
    "df_new.index[1]\n",
    "\n",
    "for i in range(len(set_beerids)):\n",
    "    for j in range(len(set_profiles)):\n",
    "        for k in range(len(df_new.index)):\n",
    "            if (set_beerids[i],set_profiles[j]) == df_new.index[k]:\n",
    "                dataM_sub[i][j] = df_new.loc[df_new.index[k]].tolist()\n",
    "\n",
    "print (dataM_sub)\n",
    "#dfw = beer_ratings.to_panel().review_overall\n",
    "#dfw = beer_ratings.index.tolist()\n",
    "#print (len(dfw))\n",
    "#beer_ratings.index.value_counts()\n",
    "#print (len(list(set(dfw))))\n",
    "#for i in list(set(dfw))[:10]:\n",
    "    "
   ]
  },
  {
   "cell_type": "code",
   "execution_count": null,
   "metadata": {
    "collapsed": false
   },
   "outputs": [],
   "source": []
  }
 ],
 "metadata": {
  "anaconda-cloud": {},
  "kernelspec": {
   "display_name": "Python [default]",
   "language": "python",
   "name": "python3"
  },
  "language_info": {
   "codemirror_mode": {
    "name": "ipython",
    "version": 3
   },
   "file_extension": ".py",
   "mimetype": "text/x-python",
   "name": "python",
   "nbconvert_exporter": "python",
   "pygments_lexer": "ipython3",
   "version": "3.5.2"
  }
 },
 "nbformat": 4,
 "nbformat_minor": 1
}
