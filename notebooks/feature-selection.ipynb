{
 "cells": [
  {
   "cell_type": "markdown",
   "metadata": {},
   "source": [
    "## Important characteristics/features that determine the overall rating\n",
    "\n",
    "In this notebook, the general correlation between the various features and the overall rating is plotted. By simple leave-one-out cross validation, we will determine the most important feature among the four that significantly contributes to the overall rating\n",
    "\n",
    "This is an extension to the previous notebook. Some of the code is repeated at the top to build from scratch."
   ]
  },
  {
   "cell_type": "code",
   "execution_count": 1,
   "metadata": {
    "collapsed": true
   },
   "outputs": [],
   "source": [
    "%matplotlib inline"
   ]
  },
  {
   "cell_type": "code",
   "execution_count": 2,
   "metadata": {
    "collapsed": true
   },
   "outputs": [],
   "source": [
    "import numpy as np\n",
    "import pandas as pd\n",
    "import matplotlib.pyplot as plt\n",
    "import sklearn"
   ]
  },
  {
   "cell_type": "code",
   "execution_count": 3,
   "metadata": {
    "collapsed": true
   },
   "outputs": [],
   "source": [
    "beerData = pd.read_csv('/Users/phani/Downloads/beer_reviews/beer_reviews.csv', delimiter=\",\", encoding='utf-8')\n",
    "#for i in range(len(beer_data.columns)):\n",
    "#    print(\"Column\",i, \": \", beer_data.columns[i])"
   ]
  },
  {
   "cell_type": "code",
   "execution_count": 4,
   "metadata": {
    "collapsed": true
   },
   "outputs": [],
   "source": [
    "# We will follow the same logic as in previous notebook to list beerIDs with less number of samples\n",
    "samplesDF = beerData[[\"beer_beerid\",\"beer_name\",\"review_overall\", \"review_profilename\"]]\n",
    "# drop duplicate reviews for the same beer\n",
    "samplesDF = samplesDF.drop_duplicates([\"beer_beerid\",\"review_profilename\"])\n",
    "samplesDF = samplesDF.set_index([\"beer_beerid\",\"beer_name\"])\n",
    "nSamples = samplesDF.groupby(level=0).count().to_dict()\n",
    "sampleMeans = samplesDF.groupby(level=0).mean().to_dict()\n",
    "sampleStdDev = samplesDF.groupby(level=0).std()\n",
    "# Define Margin of Error and Z-score for 95% confidence interval\n",
    "mError = 0.1\n",
    "zScore = 1.96\n",
    "# filter out sampleMeans with less number of reviews than minimum required\n",
    "# to achieve 95% confidence interval, sort sampleMeans and rank beer_ids \n",
    "# from the sorted sampleMeans\n",
    "# reject samples with std dev = 0.0\n",
    "\n",
    "sampleMeansTemp = {}\n",
    "for key in nSamples.keys(): \n",
    "    if key == \"review_overall\": # we are only interested in overall_review\n",
    "        for beerID in nSamples[key].keys(): # get the values - beer_beerid and overall review\n",
    "            if sampleStdDev[key][beerID] > 0:\n",
    "                nSamplesRequired = (sampleStdDev[key][beerID] * zScore/mError)**2\n",
    "            if nSamples[key][beerID] > nSamplesRequired:\n",
    "                sampleMeansTemp[beerID] =  sampleMeans[key][beerID]\n",
    "\n",
    "# redefine sampleMeans by sorted overall_reviews \n",
    "sampleMeans = sorted(sampleMeansTemp.items(), key=lambda x: x[1] , reverse=True)\n",
    "\n",
    "# Filter out the beerIDs that are not included in sampleMeans list\n",
    "# make a new dataframe\n",
    "# appending rows to make a new data frame takes a lot of time. So we will take this approach. \n",
    "#Take the original data frame and drop the rows by comparing beerIDs\n",
    "\n",
    "reviewBeerIDs = [beerKey[0] for beerKey in sampleMeans]\n",
    "# drop the duplicate beerIDs \n",
    "samplesDF = samplesDF.reset_index()\n",
    "samplesDF = beerData.drop_duplicates([\"beer_beerid\"])\n",
    "beerIDsAll = samplesDF.beer_beerid.tolist()\n",
    "\n",
    "# list the iDs that we need to discard\n",
    "discardBeerIDs = [beerID for beerID in beerIDsAll if beerID not in reviewBeerIDs]\n",
    "\n",
    "\n",
    "# Construct Feature and Data Matrices\n",
    "featureDF = beerData[[\"beer_beerid\", \"review_profilename\",'review_appearance','review_aroma', \n",
    "                      'review_palate','review_taste','review_overall']]\n",
    "featureDF = featureDF.drop_duplicates([\"beer_beerid\",\"review_profilename\"])\n",
    "featureDF = featureDF.set_index(\"beer_beerid\")\n",
    "featureDF = featureDF.drop(discardBeerIDs)\n",
    "featureDF = featureDF.reset_index()\n",
    "\n",
    "# Make lists that match data matrix indices\n",
    "beerIDList = sorted(featureDF.beer_beerid.unique())\n",
    "profileList = featureDF.review_profilename.unique()\n",
    "\n",
    "# We are interested in beer features. So we index the data frame using ID and profilename\n",
    "# and calculate sample means of all features\n",
    "featureDF = featureDF.set_index([\"beer_beerid\",\"review_profilename\"])\n",
    "\n",
    "# features sampleMeans\n",
    "featuresDict = featureDF.groupby(level=0).mean().to_dict()\n",
    "sampleMeans = featuresDict['review_overall']\n",
    "appearanceSampleMeans = featuresDict['review_appearance']\n",
    "aromaSampleMeans = featuresDict['review_aroma']\n",
    "palateSampleMeans = featuresDict['review_palate']\n",
    "tasteSampleMeans = featuresDict['review_taste']\n",
    "\n",
    "# Define dataMatrix\n",
    "dataMatrix = np.zeros(len(beerIDList*2)).reshape(len(beerIDList),2)\n",
    "\n",
    "for beerIndex in range(len(beerIDList)):\n",
    "        for key in sampleMeans.keys():\n",
    "            if key == beerIDList[beerIndex]:\n",
    "                dataMatrix[beerIndex][1] = sampleMeans[key]\n",
    "                \n",
    "# Define featureMatrix\n",
    "featureMatrix = np.zeros(len(beerIDList*5)).reshape(len(beerIDList),5)\n",
    "featuresMeansDicts = [appearanceSampleMeans,aromaSampleMeans,\n",
    "                      palateSampleMeans,tasteSampleMeans]\n",
    "\n",
    "for beerIndex in range(len(beerIDList)):\n",
    "    featureMatrix[beerIndex][0] = beerIDList[beerIndex]\n",
    "    dataMatrix[beerIndex][0] = beerIDList[beerIndex]\n",
    "    \n",
    "featureIndex = 1 # feature index in feature Matrix\n",
    "for featureDict in featuresMeansDicts:\n",
    "    for beerIndex in range(len(beerIDList)):\n",
    "        for key in featureDict.keys():\n",
    "            if key == beerIDList[beerIndex]:\n",
    "                featureMatrix[beerIndex][featureIndex] = featureDict[key]\n",
    "    featureIndex += 1\n",
    "\n",
    "X = np.array([featureMatrix[i][1:] for i in range(featureMatrix.shape[0])if dataMatrix[i][1] > 0])\n",
    "y = np.array([dataMatrix[i][1] for i in range(dataMatrix.shape[0])if dataMatrix[i][1] > 0])\n",
    "\n"
   ]
  }
 ],
 "metadata": {
  "anaconda-cloud": {},
  "kernelspec": {
   "display_name": "Python [default]",
   "language": "python",
   "name": "python3"
  },
  "language_info": {
   "codemirror_mode": {
    "name": "ipython",
    "version": 3
   },
   "file_extension": ".py",
   "mimetype": "text/x-python",
   "name": "python",
   "nbconvert_exporter": "python",
   "pygments_lexer": "ipython3",
   "version": "3.5.2"
  }
 },
 "nbformat": 4,
 "nbformat_minor": 1
}
