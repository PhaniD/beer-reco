{
 "cells": [
  {
   "cell_type": "markdown",
   "metadata": {},
   "source": [
    "# Test Project: Beer Reviews Analysis and Recommendation\n",
    "\n",
    "###  Recommend beers based on the data\n",
    "\n",
    "Data: 1.5M beer reviews from beer advocate. (https://s3.amazonaws.com/demo-datasets/beer_reviews.tar.gz)\n"
   ]
  },
  {
   "cell_type": "code",
   "execution_count": 2,
   "metadata": {
    "collapsed": true
   },
   "outputs": [],
   "source": [
    "%matplotlib inline"
   ]
  },
  {
   "cell_type": "markdown",
   "metadata": {},
   "source": [
    "### Import packages Numpy, Scikit Learn and Pandas"
   ]
  },
  {
   "cell_type": "code",
   "execution_count": 3,
   "metadata": {
    "collapsed": true
   },
   "outputs": [],
   "source": [
    "import numpy as np\n",
    "import sklearn\n",
    "import pandas as pd"
   ]
  },
  {
   "cell_type": "markdown",
   "metadata": {},
   "source": [
    "Read in the \"csv\" file with reviews into a pandas \"data frame\". Pandas has this nice reader that can read a bunch of file formats and store the data in a \"data frame\""
   ]
  },
  {
   "cell_type": "code",
   "execution_count": 4,
   "metadata": {
    "collapsed": false
   },
   "outputs": [],
   "source": [
    "beer_data = pd.read_csv('/Users/phani/Downloads/beer_reviews/beer_reviews.csv', delimiter=\",\", encoding='utf-8')\n",
    "# download the revievs csv form the link above. Alternatively, use 'urlopen' and rebuild this command \n",
    "#to read the csv file after unzipping the response "
   ]
  },
  {
   "cell_type": "code",
   "execution_count": 39,
   "metadata": {
    "collapsed": false
   },
   "outputs": [],
   "source": [
    "#for i in range(len(beer_data.columns)):\n",
    "#    print(\"Column\",i, \": \", beer_data.columns[i])\n",
    "#\n",
    "#print (\"*************************\")\n",
    "#print(\"Columns with Null Values\")\n",
    "#for column in beer_data.columns:\n",
    "#    count = len(beer_data.loc[pd.isnull(beer_data[column])])\n",
    "#    if count > 0 :\n",
    "#       print (\"Column Name: \", column, \" Null Values: \", count)"
   ]
  },
  {
   "cell_type": "markdown",
   "metadata": {},
   "source": [
    "#### Q2. Recommend beers based on the data - Approach 1\n",
    "\n",
    "A simple ordering of data based on review_overall should give us a list with beers and their corresponding ranking in the list. \n",
    "\n",
    "#### Preprocessing\n",
    "Number of reviews are not same for all beers. So, we will calculate the sample mean from the number of reviews we gathered for a beer to assign one overall_review for each beer. However, some beers have only one review where as others have more than one reviews. Hence, we need to clean up the data to include only those beers where we can calculate the mean within a certain margin of error. \n",
    "\n",
    "The statistics way to chose the threshold number of reviews (min number of samples) is to compute the minimum number of required reviews for a beer to predict the mean with 95% confidence interval. \n",
    "\n",
    "We use this formula: ($\\frac{\\sigma^2 * Z^2}{m^2}$), where $\\sigma$ is the standard deviation of the sample, Z-score for a confidence interval of 95% is 1.96 and m is the allowed margin of error. "
   ]
  },
  {
   "cell_type": "code",
   "execution_count": 68,
   "metadata": {
    "collapsed": false,
    "scrolled": false
   },
   "outputs": [
    {
     "ename": "NameError",
     "evalue": "name 'sort' is not defined",
     "output_type": "error",
     "traceback": [
      "\u001b[0;31m---------------------------------------------------------------------------\u001b[0m",
      "\u001b[0;31mNameError\u001b[0m                                 Traceback (most recent call last)",
      "\u001b[0;32m<ipython-input-68-2c2929ebb4b1>\u001b[0m in \u001b[0;36m<module>\u001b[0;34m()\u001b[0m\n\u001b[1;32m     32\u001b[0m \u001b[0;34m\u001b[0m\u001b[0m\n\u001b[1;32m     33\u001b[0m \u001b[0;31m#sampleMeans = np.sort(sampleMeans,axis=1)\u001b[0m\u001b[0;34m\u001b[0m\u001b[0;34m\u001b[0m\u001b[0m\n\u001b[0;32m---> 34\u001b[0;31m \u001b[0mtest\u001b[0m \u001b[0;34m=\u001b[0m \u001b[0msort\u001b[0m\u001b[0;34m(\u001b[0m\u001b[0msampleMeans_new\u001b[0m\u001b[0;34m.\u001b[0m\u001b[0mvalues\u001b[0m\u001b[0;34m(\u001b[0m\u001b[0;34m)\u001b[0m\u001b[0;34m)\u001b[0m\u001b[0;34m\u001b[0m\u001b[0m\n\u001b[0m\u001b[1;32m     35\u001b[0m \u001b[0;31m#print (len(sampleMeans_new.keys()))\u001b[0m\u001b[0;34m\u001b[0m\u001b[0;34m\u001b[0m\u001b[0m\n\u001b[1;32m     36\u001b[0m \u001b[0;31m#for i in sampleMeans_new.keys():\u001b[0m\u001b[0;34m\u001b[0m\u001b[0;34m\u001b[0m\u001b[0m\n",
      "\u001b[0;31mNameError\u001b[0m: name 'sort' is not defined"
     ]
    }
   ],
   "source": [
    "df = beer_data[[\"beer_beerid\",\"beer_name\",\"review_overall\", \"review_profilename\"]]\n",
    "\n",
    "# we will drop duplicate reviews\n",
    "df = df.drop_duplicates([\"beer_beerid\",\"review_profilename\"])\n",
    "\n",
    "# set indices for determining levels\n",
    "df = df.set_index([\"beer_beerid\",\"beer_name\"])\n",
    "\n",
    "# Calculate nSamples, sampleMeans, sampleStd\n",
    "nSamples = df.groupby(level=0).count().to_dict()\n",
    "sampleMeans = df.groupby(level=0).mean().to_dict()\n",
    "sampleStd = df.groupby(level=0).std()\n",
    "\n",
    "# Define Margin of Error and Z-score for 95% confidence interval\n",
    "m = 0.1\n",
    "z = 1.96\n",
    "\n",
    "# filter out sampleMeans with less number of reviews than minimum required\n",
    "# to achieve 95% confidence interval, sort sampleMeans and rank beer_ids \n",
    "# from the sorted sampleMeans\n",
    "# reject samples with std dev = 0.0\n",
    "\n",
    "sampleMeans_new = {}\n",
    "for i in nSamples.keys():\n",
    "    if i == \"review_overall\":\n",
    "        for j in nSamples[i].keys():\n",
    "            if sampleStd[i][j] > 0:\n",
    "                nSamplesRequired = (sampleStd[i][j] * z/m)**2\n",
    "            if nSamples[i][j] > nSamplesRequired:\n",
    "                sampleMeans_new[j] =  sampleMeans[i][j]\n",
    "#sampleMeans = np.array(sampleMeans_new)\n",
    "\n",
    "#sampleMeans = np.sort(sampleMeans,axis=1)\n",
    "test = sort(sampleMeans_new.values())\n",
    "#print (len(sampleMeans_new.keys()))\n",
    "#for i in sampleMeans_new.keys():\n",
    "#    print (i, sampleMeans_new[i])\n",
    "print (test)               \n",
    "       # nSamples[i][j] = [nSamples[i][j],nSamples[i][j]]\n",
    "     #   print ( nSamples[i][j])\n",
    "    \n",
    "#new_grouped"
   ]
  },
  {
   "cell_type": "code",
   "execution_count": 59,
   "metadata": {
    "collapsed": false
   },
   "outputs": [
    {
     "data": {
      "text/plain": [
       "[5.0, 3.55357143]"
      ]
     },
     "execution_count": 59,
     "metadata": {},
     "output_type": "execute_result"
    }
   ],
   "source": [
    "t = [[  5.00000000e+00,   3.55357143e+00],\n",
    "       [  6.00000000e+00,   3.70780712e+00],\n",
    "       [  7.00000000e+00,   3.26946565e+00]]\n",
    "np.sort()"
   ]
  },
  {
   "cell_type": "markdown",
   "metadata": {},
   "source": [
    "#### Q2. Recommend beers based on the data - Build a content-based recommendation system\n",
    "\n",
    "Data Matrix: Lets assume that ratings are correct and correlate with user preferences. Data matrix contains overall reviews and users data. We collect user info based on review_profilename. Hence, some data points with missing \"review_profilename\" are dropped from the data matrix. \n",
    "\n",
    "Features Matrix: Features matrix contains four features (aroma, palette, appearance, taste) rated by different users. We assume that the rating is proportional to their tastes. We will not use ABV% here as one of the feature. It has many undefined values that could shrink our feature set.\n",
    "\n",
    "We use linear regression with regularization to calculate the parameters that correlate features with overall rating. \n",
    "\n"
   ]
  },
  {
   "cell_type": "code",
   "execution_count": 9,
   "metadata": {
    "collapsed": false,
    "scrolled": true
   },
   "outputs": [
    {
     "name": "stdout",
     "output_type": "stream",
     "text": [
      "1518478\n",
      "1517728\n"
     ]
    }
   ],
   "source": [
    "# check for any NA values in four features\n",
    "beer_ratings = beer_data.dropna(how='any').loc[:,[\"beer_beerid\",\"review_overall\",\n",
    "                                                  \"review_taste\",\"review_aroma\",\n",
    "                                                 \"review_palate\",\"review_appearance\",\n",
    "                                                 \"review_profilename\"]]\n",
    "# Check for duplicate entries -  condition: same user, same rating and same beer_id\n",
    "print (len(beer_ratings)) #- before duplicates removed\n",
    "beer_ratings = beer_ratings.drop_duplicates()\n",
    "print (len(beer_ratings)) #- after removing duplicates"
   ]
  },
  {
   "cell_type": "code",
   "execution_count": 10,
   "metadata": {
    "collapsed": false
   },
   "outputs": [
    {
     "name": "stdout",
     "output_type": "stream",
     "text": [
      "1504037\n"
     ]
    }
   ],
   "source": [
    "beer_ratings = beer_ratings.drop_duplicates(subset=['beer_beerid','review_profilename'])\n",
    "print (len(beer_ratings)) #- after removing duplicates"
   ]
  },
  {
   "cell_type": "markdown",
   "metadata": {},
   "source": [
    "Create a data matrix (again a data frame) by rearranging the beer_ratings data frame using two indices and extracting the overall rating column"
   ]
  },
  {
   "cell_type": "code",
   "execution_count": 11,
   "metadata": {
    "collapsed": false
   },
   "outputs": [
    {
     "name": "stdout",
     "output_type": "stream",
     "text": [
      "1504037\n"
     ]
    }
   ],
   "source": [
    "#beer_ratings.set_index([\"beer_beerid\",\"review_profilename\"], inplace=True)\n",
    "# Set indices\n",
    "#beer_ratings.set_index(['beer_beerid','review_profilename'], inplace=True)\n",
    "#beer_ratings\n",
    "# Create a new dataframe which is our 'Data Matrix' that contains\n",
    "# beer IDs as rows, usernames as columns and overall reviews as datapoints\n",
    "# Some values are NA because all users didn't rate all beers\n",
    "#beer_datamatrix = beer_ratings.to_panel().review_overall\n",
    "#beer_datamatrix\n",
    "print (len(beer_ratings))\n",
    "#beer_ratings.to_csv(\"testdata.csv\")"
   ]
  },
  {
   "cell_type": "code",
   "execution_count": 23,
   "metadata": {
    "collapsed": false,
    "scrolled": false
   },
   "outputs": [
    {
     "name": "stdout",
     "output_type": "stream",
     "text": [
      "200\n"
     ]
    },
    {
     "ename": "TypeError",
     "evalue": "'numpy.float64' object does not support item assignment",
     "output_type": "error",
     "traceback": [
      "\u001b[0;31m---------------------------------------------------------------------------\u001b[0m",
      "\u001b[0;31mTypeError\u001b[0m                                 Traceback (most recent call last)",
      "\u001b[0;32m<ipython-input-23-b11e8ae56b65>\u001b[0m in \u001b[0;36m<module>\u001b[0;34m()\u001b[0m\n\u001b[1;32m     16\u001b[0m         \u001b[0;32mfor\u001b[0m \u001b[0mk\u001b[0m \u001b[0;32min\u001b[0m \u001b[0mrange\u001b[0m\u001b[0;34m(\u001b[0m\u001b[0mlen\u001b[0m\u001b[0;34m(\u001b[0m\u001b[0mdf_new\u001b[0m\u001b[0;34m.\u001b[0m\u001b[0mindex\u001b[0m\u001b[0;34m)\u001b[0m\u001b[0;34m)\u001b[0m\u001b[0;34m:\u001b[0m\u001b[0;34m\u001b[0m\u001b[0m\n\u001b[1;32m     17\u001b[0m             \u001b[0;32mif\u001b[0m \u001b[0;34m(\u001b[0m\u001b[0mset_beerids\u001b[0m\u001b[0;34m[\u001b[0m\u001b[0mi\u001b[0m\u001b[0;34m]\u001b[0m\u001b[0;34m,\u001b[0m\u001b[0mset_profiles\u001b[0m\u001b[0;34m[\u001b[0m\u001b[0mj\u001b[0m\u001b[0;34m]\u001b[0m\u001b[0;34m)\u001b[0m \u001b[0;34m==\u001b[0m \u001b[0mdf_new\u001b[0m\u001b[0;34m.\u001b[0m\u001b[0mindex\u001b[0m\u001b[0;34m[\u001b[0m\u001b[0mk\u001b[0m\u001b[0;34m]\u001b[0m\u001b[0;34m:\u001b[0m\u001b[0;34m\u001b[0m\u001b[0m\n\u001b[0;32m---> 18\u001b[0;31m                 \u001b[0mdataM_sub\u001b[0m\u001b[0;34m[\u001b[0m\u001b[0mi\u001b[0m\u001b[0;34m]\u001b[0m\u001b[0;34m[\u001b[0m\u001b[0mj\u001b[0m\u001b[0;34m]\u001b[0m \u001b[0;34m=\u001b[0m \u001b[0mdf_new\u001b[0m\u001b[0;34m.\u001b[0m\u001b[0mloc\u001b[0m\u001b[0;34m[\u001b[0m\u001b[0mdf_new\u001b[0m\u001b[0;34m.\u001b[0m\u001b[0mindex\u001b[0m\u001b[0;34m[\u001b[0m\u001b[0mk\u001b[0m\u001b[0;34m]\u001b[0m\u001b[0;34m]\u001b[0m\u001b[0;34m.\u001b[0m\u001b[0mtolist\u001b[0m\u001b[0;34m(\u001b[0m\u001b[0;34m)\u001b[0m\u001b[0;34m\u001b[0m\u001b[0m\n\u001b[0m\u001b[1;32m     19\u001b[0m \u001b[0;34m\u001b[0m\u001b[0m\n\u001b[1;32m     20\u001b[0m \u001b[0mprint\u001b[0m \u001b[0;34m(\u001b[0m\u001b[0mdataM_sub\u001b[0m\u001b[0;34m)\u001b[0m\u001b[0;34m\u001b[0m\u001b[0m\n",
      "\u001b[0;31mTypeError\u001b[0m: 'numpy.float64' object does not support item assignment"
     ]
    }
   ],
   "source": [
    "# Test code\n",
    "df = beer_ratings[:200]\n",
    "print (len(df.review_profilename))\n",
    "list_profiles = np.sort(df.review_profilename.tolist())\n",
    "set_profiles = list(set(list_profiles))\n",
    "list_beerids = np.sort(df.beer_beerid.tolist())\n",
    "set_beerids = list(set(list_beerids))\n",
    "dataM_sub = np.zeros(len(set_beerids) * len(set_profiles))\n",
    "dataM_sub.reshape(len(set_beerids), len(set_profiles))\n",
    "\n",
    "df_new = df.set_index([\"beer_beerid\",\"review_profilename\"])\n",
    "df_new.index[1]\n",
    "\n",
    "for i in range(len(set_beerids)):\n",
    "    for j in range(len(set_profiles)):\n",
    "        for k in range(len(df_new.index)):\n",
    "            if (set_beerids[i],set_profiles[j]) == df_new.index[k]:\n",
    "                dataM_sub[i][j] = df_new.loc[df_new.index[k]].tolist()\n",
    "\n",
    "print (dataM_sub)\n",
    "#dfw = beer_ratings.to_panel().review_overall\n",
    "#dfw = beer_ratings.index.tolist()\n",
    "#print (len(dfw))\n",
    "#beer_ratings.index.value_counts()\n",
    "#print (len(list(set(dfw))))\n",
    "#for i in list(set(dfw))[:10]:\n",
    "    "
   ]
  },
  {
   "cell_type": "code",
   "execution_count": null,
   "metadata": {
    "collapsed": false
   },
   "outputs": [],
   "source": []
  }
 ],
 "metadata": {
  "anaconda-cloud": {},
  "kernelspec": {
   "display_name": "Python [default]",
   "language": "python",
   "name": "python3"
  },
  "language_info": {
   "codemirror_mode": {
    "name": "ipython",
    "version": 3
   },
   "file_extension": ".py",
   "mimetype": "text/x-python",
   "name": "python",
   "nbconvert_exporter": "python",
   "pygments_lexer": "ipython3",
   "version": "3.5.2"
  }
 },
 "nbformat": 4,
 "nbformat_minor": 1
}
