{
 "cells": [
  {
   "cell_type": "markdown",
   "metadata": {},
   "source": [
    "# Test Project: Beer Reviews Analysis and Recommendation\n",
    "\n",
    "###  Recommend beers based on the data\n",
    "\n",
    "Data: 1.5M beer reviews from beer advocate. (https://s3.amazonaws.com/demo-datasets/beer_reviews.tar.gz)\n"
   ]
  },
  {
   "cell_type": "code",
   "execution_count": 1,
   "metadata": {
    "collapsed": true
   },
   "outputs": [],
   "source": [
    "%matplotlib inline"
   ]
  },
  {
   "cell_type": "markdown",
   "metadata": {},
   "source": [
    "### Import packages Numpy, Scikit Learn and Pandas"
   ]
  },
  {
   "cell_type": "code",
   "execution_count": 2,
   "metadata": {
    "collapsed": true
   },
   "outputs": [],
   "source": [
    "import numpy as np\n",
    "import sklearn\n",
    "import pandas as pd"
   ]
  },
  {
   "cell_type": "markdown",
   "metadata": {},
   "source": [
    "Read in the \"csv\" file with reviews into a pandas \"data frame\". Pandas has this nice reader that can read a bunch of file formats and store the data in a \"data frame\""
   ]
  },
  {
   "cell_type": "code",
   "execution_count": 3,
   "metadata": {
    "collapsed": false
   },
   "outputs": [],
   "source": [
    "beerData = pd.read_csv('/Users/phani/Downloads/beer_reviews/beer_reviews.csv', delimiter=\",\", encoding='utf-8')\n",
    "# download the revievs csv form the link above. Alternatively, use 'urlopen' and rebuild this command \n",
    "#to read the csv file after unzipping the response "
   ]
  },
  {
   "cell_type": "code",
   "execution_count": 4,
   "metadata": {
    "collapsed": false
   },
   "outputs": [],
   "source": [
    "#for i in range(len(beer_data.columns)):\n",
    "#    print(\"Column\",i, \": \", beer_data.columns[i])\n",
    "#\n",
    "#print (\"*************************\")\n",
    "#print(\"Columns with Null Values\")\n",
    "#for column in beer_data.columns:\n",
    "#    count = len(beer_data.loc[pd.isnull(beer_data[column])])\n",
    "#    if count > 0 :\n",
    "#       print (\"Column Name: \", column, \" Null Values: \", count)"
   ]
  },
  {
   "cell_type": "markdown",
   "metadata": {},
   "source": [
    "#### Q2. Recommend beers based on the data - Approach 1\n",
    "\n",
    "A simple ordering of data based on review_overall should give us a list with beers and their corresponding ranking in the list. \n",
    "\n",
    "#### Preprocessing\n",
    "Number of reviews are not same for all beers. So, we will calculate the sample mean from the number of reviews we gathered for a beer to assign one overall_review for each beer. However, some beers have only one review where as others have more than one reviews. Hence, we need to clean up the data to include only those beers where we can calculate the mean within a certain margin of error. \n",
    "\n",
    "Data Cleaning: The statistics way to chose the threshold number of reviews (min number of samples) is to compute the minimum number of required reviews for a beer to predict the mean with 95% confidence interval. \n",
    "\n",
    "We use this formula: ($\\frac{\\sigma^2 * Z^2}{m^2}$), where $\\sigma$ is the standard deviation of the sample, Z-score for a confidence interval of 95% is 1.96 and m is the allowed margin of error. "
   ]
  },
  {
   "cell_type": "code",
   "execution_count": 5,
   "metadata": {
    "collapsed": false,
    "scrolled": true
   },
   "outputs": [
    {
     "data": {
      "text/html": [
       "<div>\n",
       "<table border=\"1\" class=\"dataframe\">\n",
       "  <thead>\n",
       "    <tr style=\"text-align: right;\">\n",
       "      <th></th>\n",
       "      <th>brewery_name</th>\n",
       "      <th>beer_style</th>\n",
       "      <th>beer_name</th>\n",
       "      <th>review_overall</th>\n",
       "    </tr>\n",
       "    <tr>\n",
       "      <th>beer_beerid</th>\n",
       "      <th></th>\n",
       "      <th></th>\n",
       "      <th></th>\n",
       "      <th></th>\n",
       "    </tr>\n",
       "  </thead>\n",
       "  <tbody>\n",
       "    <tr>\n",
       "      <th>63649</th>\n",
       "      <td>Peg's Cantina &amp; Brewpub / Cycle Brewing</td>\n",
       "      <td>American Double / Imperial Stout</td>\n",
       "      <td>Rare D.O.S.</td>\n",
       "      <td>4.848485</td>\n",
       "    </tr>\n",
       "    <tr>\n",
       "      <th>44910</th>\n",
       "      <td>De Struise Brouwers</td>\n",
       "      <td>Lambic - Unblended</td>\n",
       "      <td>Dirty Horse</td>\n",
       "      <td>4.820513</td>\n",
       "    </tr>\n",
       "    <tr>\n",
       "      <th>8626</th>\n",
       "      <td>Southampton Publick House</td>\n",
       "      <td>Berliner Weissbier</td>\n",
       "      <td>Southampton Berliner Weisse</td>\n",
       "      <td>4.768293</td>\n",
       "    </tr>\n",
       "    <tr>\n",
       "      <th>68548</th>\n",
       "      <td>Brouwerij Drie Fonteinen</td>\n",
       "      <td>Gueuze</td>\n",
       "      <td>Armand'4 Oude Geuze Lente (Spring)</td>\n",
       "      <td>4.730769</td>\n",
       "    </tr>\n",
       "    <tr>\n",
       "      <th>70356</th>\n",
       "      <td>Brouwerij Drie Fonteinen</td>\n",
       "      <td>Gueuze</td>\n",
       "      <td>Armand'4 Oude Geuze Zomer (Summer)</td>\n",
       "      <td>4.644444</td>\n",
       "    </tr>\n",
       "    <tr>\n",
       "      <th>56082</th>\n",
       "      <td>Kern River Brewing Company</td>\n",
       "      <td>American Double / Imperial IPA</td>\n",
       "      <td>Citra DIPA</td>\n",
       "      <td>4.628049</td>\n",
       "    </tr>\n",
       "    <tr>\n",
       "      <th>36316</th>\n",
       "      <td>Brasserie Cantillon</td>\n",
       "      <td>Lambic - Fruit</td>\n",
       "      <td>Cantillon Blåbær Lambik</td>\n",
       "      <td>4.625806</td>\n",
       "    </tr>\n",
       "    <tr>\n",
       "      <th>41928</th>\n",
       "      <td>Russian River Brewing Company</td>\n",
       "      <td>American Wild Ale</td>\n",
       "      <td>Deviation - Bottleworks 9th Anniversary</td>\n",
       "      <td>4.620536</td>\n",
       "    </tr>\n",
       "    <tr>\n",
       "      <th>16814</th>\n",
       "      <td>The Alchemist</td>\n",
       "      <td>American Double / Imperial IPA</td>\n",
       "      <td>Heady Topper</td>\n",
       "      <td>4.618510</td>\n",
       "    </tr>\n",
       "    <tr>\n",
       "      <th>1545</th>\n",
       "      <td>Brouwerij Westvleteren (Sint-Sixtusabdij van W...</td>\n",
       "      <td>Quadrupel (Quad)</td>\n",
       "      <td>Trappist Westvleteren 12</td>\n",
       "      <td>4.617925</td>\n",
       "    </tr>\n",
       "  </tbody>\n",
       "</table>\n",
       "</div>"
      ],
      "text/plain": [
       "                                                  brewery_name  \\\n",
       "beer_beerid                                                      \n",
       "63649                  Peg's Cantina & Brewpub / Cycle Brewing   \n",
       "44910                                      De Struise Brouwers   \n",
       "8626                                 Southampton Publick House   \n",
       "68548                                 Brouwerij Drie Fonteinen   \n",
       "70356                                 Brouwerij Drie Fonteinen   \n",
       "56082                               Kern River Brewing Company   \n",
       "36316                                      Brasserie Cantillon   \n",
       "41928                            Russian River Brewing Company   \n",
       "16814                                            The Alchemist   \n",
       "1545         Brouwerij Westvleteren (Sint-Sixtusabdij van W...   \n",
       "\n",
       "                                   beer_style  \\\n",
       "beer_beerid                                     \n",
       "63649        American Double / Imperial Stout   \n",
       "44910                      Lambic - Unblended   \n",
       "8626                       Berliner Weissbier   \n",
       "68548                                  Gueuze   \n",
       "70356                                  Gueuze   \n",
       "56082          American Double / Imperial IPA   \n",
       "36316                          Lambic - Fruit   \n",
       "41928                       American Wild Ale   \n",
       "16814          American Double / Imperial IPA   \n",
       "1545                         Quadrupel (Quad)   \n",
       "\n",
       "                                           beer_name  review_overall  \n",
       "beer_beerid                                                           \n",
       "63649                                    Rare D.O.S.        4.848485  \n",
       "44910                                    Dirty Horse        4.820513  \n",
       "8626                     Southampton Berliner Weisse        4.768293  \n",
       "68548             Armand'4 Oude Geuze Lente (Spring)        4.730769  \n",
       "70356             Armand'4 Oude Geuze Zomer (Summer)        4.644444  \n",
       "56082                                     Citra DIPA        4.628049  \n",
       "36316                        Cantillon Blåbær Lambik        4.625806  \n",
       "41928        Deviation - Bottleworks 9th Anniversary        4.620536  \n",
       "16814                                   Heady Topper        4.618510  \n",
       "1545                        Trappist Westvleteren 12        4.617925  "
      ]
     },
     "execution_count": 5,
     "metadata": {},
     "output_type": "execute_result"
    }
   ],
   "source": [
    "# define a new dataframe with four attributes\n",
    "samplesDF = beerData[[\"beer_beerid\",\"beer_name\",\"review_overall\", \"review_profilename\"]]\n",
    "\n",
    "# drop duplicate reviews for the same beer\n",
    "samplesDF = samplesDF.drop_duplicates([\"beer_beerid\",\"review_profilename\"])\n",
    "\n",
    "# set indices for determining levels\n",
    "samplesDF = samplesDF.set_index([\"beer_beerid\",\"beer_name\"])\n",
    "\n",
    "# Calculate nSamples, sampleMeans, sampleStdDev\n",
    "nSamples = samplesDF.groupby(level=0).count().to_dict()\n",
    "sampleMeans = samplesDF.groupby(level=0).mean().to_dict()\n",
    "sampleStdDev = samplesDF.groupby(level=0).std()\n",
    "\n",
    "\n",
    "# Define Margin of Error and Z-score for 95% confidence interval\n",
    "mError = 0.1\n",
    "zScore = 1.96\n",
    "\n",
    "# filter out sampleMeans with less number of reviews than minimum required\n",
    "# to achieve 95% confidence interval, sort sampleMeans and rank beer_ids \n",
    "# from the sorted sampleMeans\n",
    "# reject samples with std dev = 0.0\n",
    "\n",
    "sampleMeansTemp = {}\n",
    "for key in nSamples.keys(): \n",
    "    if key == \"review_overall\": # we are only interested in overall_review\n",
    "        for beerID in nSamples[key].keys(): # get the values - beer_beerid and overall review\n",
    "            if sampleStdDev[key][beerID] > 0:\n",
    "                nSamplesRequired = (sampleStdDev[key][beerID] * zScore/mError)**2\n",
    "            if nSamples[key][beerID] > nSamplesRequired:\n",
    "                sampleMeansTemp[beerID] =  sampleMeans[key][beerID]\n",
    "\n",
    "# redefine sampleMeans by sorted overall_reviews \n",
    "sampleMeans = sorted(sampleMeansTemp.items(), key=lambda x: x[1] , reverse=True)\n",
    "\n",
    "# Filter out the beerIDs that are not included in sampleMeans list\n",
    "# make a new dataframe\n",
    "# appending rows to make a new data frame takes a lot of time. So we will take this approach. \n",
    "#Take the original data frame and drop the rows by comparing beerIDs\n",
    "\n",
    "reviewBeerIDs = [beerKey[0] for beerKey in sampleMeans]\n",
    "# drop the duplicate beerIDs \n",
    "newBeerDF = beerData.drop_duplicates([\"beer_beerid\"])\n",
    "beerIDsAll = newBeerDF.beer_beerid.tolist()\n",
    "\n",
    "# list the iDs that we need to discard\n",
    "discardBeerIDs = [beerID for beerID in beerIDsAll if beerID not in reviewBeerIDs]\n",
    "newBeerDF = newBeerDF.set_index([\"beer_beerid\"])\n",
    "newBeerDF = newBeerDF.drop(discardBeerIDs)\n",
    "\n",
    "#drop other labels and leave only few for visualization\n",
    "newBeerDF = newBeerDF.drop(['brewery_id','review_time', 'review_overall','review_aroma','review_taste',\n",
    "                    'review_palate','review_profilename','beer_abv','review_appearance'], axis=1)\n",
    "\n",
    "# Create a column review_overall with values from sampleMeans\n",
    "review_overall = []\n",
    "for beerIndex in newBeerDF.index.tolist():\n",
    "    for keyIndex in range(len(sampleMeans)):\n",
    "        if sampleMeans[keyIndex][0] == beerIndex:\n",
    "            review_overall.append(sampleMeans[keyIndex][1])\n",
    "\n",
    "# add the column review_overall values from sampleMeans list\n",
    "newBeerDF['review_overall'] = review_overall\n",
    "\n",
    "# sort the dataframe by overall reviews and print the top ten beers in the list\n",
    "newBeerDF = newBeerDF.sort_values(by='review_overall', ascending=False)\n",
    "newBeerDF.head(10)"
   ]
  },
  {
   "cell_type": "markdown",
   "metadata": {},
   "source": [
    "#### Q2. Recommend beers based on the data - Build a content-based recommendation system\n",
    "\n",
    "In a content based recommendation system, we will calculate user preferences based on beer features and overall_review for a beer. We can then predict the overall rating for any beer given the features of a beer by an average user. \n",
    "\n",
    "Data Matrix: Lets assume that individual ratings (appearance,aroma, palate, taste) correlate with beer features and hence correlate with overall rating by reviewers/users. DataMatrix contains the overall review for a beer calculated as the sampleMean of the overall_review by all reviewers. \n",
    "\n",
    "Features Matrix: Features matrix contains four features (appearance,aroma, palate, taste) rated by different users. We assume that the rating is proportional to their tastes and correspond to the features of a given beer. (We will not use ABV% here as one of the feature. It has many undefined values that could shrink our feature set.)\n",
    "\n",
    "Data Cleaning: We collect user info based on review_profilename. Hence, some data points with missing \"review_profilename\" are dropped from the data matrix. We will use the reduced dataset from the above approach that satisfy minimum number of samples required to predict population means with 95% confidence level given a sample stdDev and margin of error. Here we will use sampleMeans for each attribute: aroma, palette, appearance and taste and the overall_review\n",
    "\n",
    "Finally, we use linear regression to calculate the parameters that correlate features with overall rating. "
   ]
  },
  {
   "cell_type": "code",
   "execution_count": 6,
   "metadata": {
    "collapsed": false
   },
   "outputs": [],
   "source": [
    "# Feature Matrix\n",
    "featureDF = beerData[[\"beer_beerid\", \"review_profilename\",'review_appearance','review_aroma', \n",
    "                      'review_palate','review_taste','review_overall']]\n",
    "featureDF = featureDF.drop_duplicates([\"beer_beerid\",\"review_profilename\"])\n",
    "featureDF = featureDF.set_index(\"beer_beerid\")\n",
    "featureDF = featureDF.drop(discardBeerIDs)\n",
    "featureDF = featureDF.reset_index()\n",
    "\n",
    "# Make lists that match data matrix indices\n",
    "beerIDList = sorted(featureDF.beer_beerid.unique())\n",
    "profileList = featureDF.review_profilename.unique()\n",
    "\n",
    "# We are interested in beer features. So we index the data frame using ID and profilename\n",
    "# and calculate sample means of all features\n",
    "featureDF = featureDF.set_index([\"beer_beerid\",\"review_profilename\"])\n",
    "\n",
    "# features sampleMeans\n",
    "featuresDict = featureDF.groupby(level=0).mean().to_dict()\n",
    "sampleMeans = featuresDict['review_overall']\n",
    "appearanceSampleMeans = featuresDict['review_appearance']\n",
    "aromaSampleMeans = featuresDict['review_aroma']\n",
    "palateSampleMeans = featuresDict['review_palate']\n",
    "tasteSampleMeans = featuresDict['review_taste']\n",
    "\n",
    "# Define dataMatrix\n",
    "dataMatrix = np.zeros(len(beerIDList*2)).reshape(len(beerIDList),2)\n",
    "\n",
    "for beerIndex in range(len(beerIDList)):\n",
    "        for key in sampleMeans.keys():\n",
    "            if key == beerIDList[beerIndex]:\n",
    "                dataMatrix[beerIndex][1] = sampleMeans[key]\n",
    "                \n",
    "# Define featureMatrix\n",
    "featureMatrix = np.zeros(len(beerIDList*5)).reshape(len(beerIDList),5)\n",
    "featuresMeansDicts = [appearanceSampleMeans,aromaSampleMeans,\n",
    "                      palateSampleMeans,tasteSampleMeans]\n",
    "\n",
    "for beerIndex in range(len(beerIDList)):\n",
    "    featureMatrix[beerIndex][0] = beerIDList[beerIndex]\n",
    "    dataMatrix[beerIndex][0] = beerIDList[beerIndex]\n",
    "    \n",
    "featureIndex = 1 # feature index in feature Matrix\n",
    "for featureDict in featuresMeansDicts:\n",
    "    for beerIndex in range(len(beerIDList)):\n",
    "        for key in featureDict.keys():\n",
    "            if key == beerIDList[beerIndex]:\n",
    "                featureMatrix[beerIndex][featureIndex] = featureDict[key]\n",
    "    featureIndex += 1\n"
   ]
  },
  {
   "cell_type": "code",
   "execution_count": 7,
   "metadata": {
    "collapsed": false
   },
   "outputs": [
    {
     "name": "stdout",
     "output_type": "stream",
     "text": [
      "2529\n",
      "2529\n"
     ]
    },
    {
     "data": {
      "image/png": "[encoded data removed]",
      "text/plain": [
       "<matplotlib.figure.Figure at 0x122bee4a8>"
      ]
     },
     "metadata": {},
     "output_type": "display_data"
    }
   ],
   "source": [
    "print (featureMatrix.shape[0])\n",
    "print (dataMatrix.shape[0])\n",
    "\n",
    "X = np.array([featureMatrix[i][1:] for i in range(featureMatrix.shape[0])if dataMatrix[i][1] > 0])\n",
    "y = np.array([dataMatrix[i][1] for i in range(dataMatrix.shape[0])if dataMatrix[i][1] > 0])\n",
    "\n",
    "import matplotlib.pyplot as plt\n",
    "from matplotlib import style\n",
    "style.use('ggplot')\n",
    "#print(X)\n",
    "xT = X.T\n",
    "#print(xT)\n",
    "#print(xT.shape)\n",
    "#print(y.shape)\n",
    "plt.plot(xT[3],y, 'o');"
   ]
  },
  {
   "cell_type": "code",
   "execution_count": 9,
   "metadata": {
    "collapsed": false
   },
   "outputs": [
    {
     "name": "stdout",
     "output_type": "stream",
     "text": [
      "Weight coefficients:  [ 0.02695863 -0.41112331  0.04256156  1.09947967]\n",
      "y-axis intercept:  0.934661669826\n",
      "0.893419231624\n",
      "0.87272987335\n",
      "Lasso Regression (L1 penalty)\n",
      "alpha = : 100\n",
      "0.0\n",
      "-0.00173534378159\n",
      "alpha = : 10\n",
      "0.0\n",
      "-0.00173534378159\n",
      "alpha = : 1\n",
      "0.0\n",
      "-0.00173534378159\n",
      "alpha = : 0.01\n",
      "0.864711258967\n",
      "0.851765984844\n",
      "Ridge Regression (L2 penalty)\n",
      "alpha = : 100\n",
      "0.832470032708\n",
      "0.820076664804\n",
      "alpha = : 10\n",
      "0.876442836824\n",
      "0.857522867216\n",
      "alpha = : 1\n",
      "0.892383663773\n",
      "0.871684255669\n",
      "alpha = : 0.01\n",
      "0.893419068281\n",
      "0.872728823819\n"
     ]
    },
    {
     "data": {
      "image/png": "[encoded data removed]",
      "text/plain": [
       "<matplotlib.figure.Figure at 0x10a94f278>"
      ]
     },
     "metadata": {},
     "output_type": "display_data"
    }
   ],
   "source": [
    "import sklearn \n",
    "from sklearn.model_selection import train_test_split\n",
    "\n",
    "\n",
    "train_X, test_X, train_y, test_y = train_test_split(X, y, train_size=0.7, random_state=1236)\n",
    "\n",
    "from sklearn.linear_model import LinearRegression\n",
    "regressor = LinearRegression()\n",
    "regressor.fit(train_X, train_y)\n",
    "print('Weight coefficients: ', regressor.coef_)\n",
    "print('y-axis intercept: ', regressor.intercept_)\n",
    "print(regressor.score(train_X,train_y))\n",
    "print(regressor.score(test_X,test_y))\n",
    "\n",
    "y_pred_train = regressor.predict(train_X)\n",
    "y_pred_test = regressor.predict(test_X)\n",
    "\n",
    "import matplotlib.pyplot as plt\n",
    "\n",
    "plt.plot([y.min(), y.max()], [y.min(), y.max()])\n",
    "plt.plot(test_y, y_pred_test, '^', label=\"test-prediction\")\n",
    "\n",
    "print (\"Lasso Regression (L1 penalty)\")\n",
    "from sklearn.linear_model import Lasso\n",
    "lasso_models = {}\n",
    "for alpha in [100, 10, 1, .01]:\n",
    "    lasso = Lasso(alpha=alpha).fit(train_X, train_y)\n",
    "    print(\"alpha = :\", alpha)\n",
    "    print(lasso.score(train_X, train_y))\n",
    "    print(lasso.score(test_X, test_y))\n",
    "    lasso_models[alpha] = lasso\n",
    "\n",
    "print (\"Ridge Regression (L2 penalty)\")\n",
    "from sklearn.linear_model import Ridge\n",
    "ridge_models = {}\n",
    "for alpha in [100, 10, 1, .01]:\n",
    "    ridge = Ridge(alpha=alpha).fit(train_X, train_y)\n",
    "    print(\"alpha = :\", alpha)\n",
    "    print(ridge.score(train_X, train_y))\n",
    "    print(ridge.score(test_X, test_y))\n",
    "    ridge_models[alpha] = ridge\n",
    "\n",
    "\n",
    "\n",
    "\n"
   ]
  },
  {
   "cell_type": "code",
   "execution_count": 10,
   "metadata": {
    "collapsed": false,
    "scrolled": true
   },
   "outputs": [
    {
     "name": "stdout",
     "output_type": "stream",
     "text": [
      "No of Neighbors:  1\n",
      "1.0\n",
      "0.761589254418\n",
      "No of Neighbors:  2\n",
      "0.949149796856\n",
      "0.819922141559\n",
      "No of Neighbors:  3\n",
      "0.929539816216\n",
      "0.83824992686\n",
      "No of Neighbors:  4\n",
      "0.920039733351\n",
      "0.847798379782\n"
     ]
    }
   ],
   "source": [
    "from sklearn.neighbors import KNeighborsRegressor\n",
    "for i in range(1,5):\n",
    "    kneighbor_regression = KNeighborsRegressor(n_neighbors=i)\n",
    "    kneighbor_regression.fit(train_X, train_y)\n",
    "    print (\"No of Neighbors: \", i)\n",
    "    print(kneighbor_regression.score(train_X, train_y))\n",
    "    print(kneighbor_regression.score(test_X, test_y))"
   ]
  },
  {
   "cell_type": "markdown",
   "metadata": {},
   "source": [
    "#### Build a content-based recommendation system for each user\n",
    "\n",
    "For a reviewer, we will recommend beers that he might like based on the data from his own ratings of other beers and sampleMeans of features for all beers.\n",
    "\n",
    "Data Matrix: DataMatrix contains the overall_review for all beers separated by each reviewer along columns. (Difference between this and above is that in the above approach, sampleMeans of overall reviews are listed in dataMatrix) \n",
    "\n",
    "Features Matrix: Features matrix is same as above\n",
    "\n",
    "Finally, we use linear regression to calculate the parameters for each user that correlate features with overall rating. "
   ]
  },
  {
   "cell_type": "code",
   "execution_count": 11,
   "metadata": {
    "collapsed": false,
    "scrolled": true
   },
   "outputs": [],
   "source": [
    "# Data Matrix\n",
    "dataDF = beerData[[\"beer_beerid\",\"review_overall\", \"review_profilename\"]]\n",
    "\n",
    "# drop duplicate reviews for the same beer\n",
    "dataDF = dataDF.drop_duplicates([\"beer_beerid\",\"review_profilename\"])\n",
    "\n",
    "# set indices for determining levels\n",
    "dataDF = dataDF.set_index(\"beer_beerid\")\n",
    "\n",
    "# drop the rows with less number of reviews than required samples\n",
    "# Refer to diff variable from above\n",
    "dataDF = dataDF.drop(discardBeerIDs)\n",
    "\n",
    "# Make a numpy 2D array with beerIDs on one axis \n",
    "# and profilenames on the other axis\n",
    "dataDF = dataDF.reset_index()\n",
    "beerIDList = sorted(dataDF.beer_beerid.unique())\n",
    "profileList = dataDF.review_profilename.unique()\n",
    "\n",
    "#************************************\n",
    "# Building an actual data matrix with all beers and review_profiles is time consuming\n",
    "# The code below shows the implementation and test for 2 beers and validate the approach.\n",
    "\n",
    "# Define Data Matrix\n",
    "dataMatrix = np.zeros(len(beerIDList) * len(profileList)).reshape(len(beerIDList),len(profileList))\n",
    "\n",
    "# Reindex to use access dataframe using two indices of numpy array\n",
    "dataDF = dataDF.set_index([\"beer_beerid\",\"review_profilename\"])\n",
    "\n",
    "for beerID in range(2):\n",
    "    for profile in range(len(profileList)):\n",
    "        try:\n",
    "            rating = dataDF.loc[(beerIDList[beerID],profileList[profile]),\"review_overall\"]\n",
    "            dataMatrix[beerID][profile] = rating\n",
    "            #print(profile, beerID, rating)\n",
    "        except KeyError:\n",
    "            pass\n",
    "    \n",
    "            \n",
    "#print (len([dataMatrix[0][i] for i in range(len(dataMatrix[0])) if dataMatrix[0][i] > 0]))"
   ]
  },
  {
   "cell_type": "markdown",
   "metadata": {},
   "source": [
    "#### Calculate the parameterMatrix based on featureMatrix and subsets of dataMatrix"
   ]
  },
  {
   "cell_type": "code",
   "execution_count": 12,
   "metadata": {
    "collapsed": false
   },
   "outputs": [
    {
     "name": "stdout",
     "output_type": "stream",
     "text": [
      "(2529, 11)\n",
      "(2529, 5)\n"
     ]
    }
   ],
   "source": [
    "# Take first ten profile names and build a dataMatrix for 10 profiles\n",
    "profiles = profileList[:10]\n",
    "\n",
    "# Define Data Matrix\n",
    "subDataMatrix = np.zeros(len(beerIDList) * (len(profiles) + 1)).reshape(len(beerIDList),len(profiles)+1)\n",
    "\n",
    "# Reindex to use access dataframe using two indices of numpy array\n",
    "#dataDF = dataDF.set_index([\"beer_beerid\",\"review_profilename\"])\n",
    "\n",
    "for beerIndex in range(len(beerIDList)):\n",
    "    subDataMatrix[beerIndex][0] = beerIDList[beerIndex]\n",
    "    \n",
    "for beerID in range(len(beerIDList)):\n",
    "    for profile in range(len(profiles)):\n",
    "        try:\n",
    "            rating = dataDF.loc[(beerIDList[beerID],profiles[profile]),\"review_overall\"]\n",
    "            subDataMatrix[beerID][profile+1] = rating\n",
    "        except KeyError:\n",
    "            pass\n",
    "\n",
    "print (np.shape(subDataMatrix))\n",
    "print (np.shape(featureMatrix))\n"
   ]
  }
 ],
 "metadata": {
  "anaconda-cloud": {},
  "kernelspec": {
   "display_name": "Python [default]",
   "language": "python",
   "name": "python3"
  },
  "language_info": {
   "codemirror_mode": {
    "name": "ipython",
    "version": 3
   },
   "file_extension": ".py",
   "mimetype": "text/x-python",
   "name": "python",
   "nbconvert_exporter": "python",
   "pygments_lexer": "ipython3",
   "version": "3.5.2"
  }
 },
 "nbformat": 4,
 "nbformat_minor": 1
}
