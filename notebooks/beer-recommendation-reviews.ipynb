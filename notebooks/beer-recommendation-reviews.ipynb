{
 "cells": [
  {
   "cell_type": "markdown",
   "metadata": {},
   "source": [
    "# Test Project: Beer Reviews Analysis and Recommendation\n",
    "\n",
    "###  Recommend beers based on the data\n",
    "\n",
    "Data: 1.5M beer reviews from beer advocate. (https://s3.amazonaws.com/demo-datasets/beer_reviews.tar.gz)\n"
   ]
  },
  {
   "cell_type": "code",
   "execution_count": 1,
   "metadata": {
    "collapsed": true
   },
   "outputs": [],
   "source": [
    "%matplotlib inline"
   ]
  },
  {
   "cell_type": "markdown",
   "metadata": {},
   "source": [
    "### Import packages Numpy, Scikit Learn and Pandas"
   ]
  },
  {
   "cell_type": "code",
   "execution_count": 2,
   "metadata": {
    "collapsed": true
   },
   "outputs": [],
   "source": [
    "import numpy as np\n",
    "import sklearn\n",
    "import pandas as pd"
   ]
  },
  {
   "cell_type": "markdown",
   "metadata": {},
   "source": [
    "Read in the \"csv\" file with reviews into a pandas \"data frame\". Pandas has this nice reader that can read a bunch of file formats and store the data in a \"data frame\""
   ]
  },
  {
   "cell_type": "code",
   "execution_count": 3,
   "metadata": {
    "collapsed": false
   },
   "outputs": [],
   "source": [
    "beerData = pd.read_csv('/Users/phani/Downloads/beer_reviews/beer_reviews.csv', delimiter=\",\", encoding='utf-8')\n",
    "# download the revievs csv form the link above. Alternatively, use 'urlopen' and rebuild this command \n",
    "#to read the csv file after unzipping the response "
   ]
  },
  {
   "cell_type": "code",
   "execution_count": 4,
   "metadata": {
    "collapsed": false
   },
   "outputs": [],
   "source": [
    "#for i in range(len(beer_data.columns)):\n",
    "#    print(\"Column\",i, \": \", beer_data.columns[i])\n",
    "#\n",
    "#print (\"*************************\")\n",
    "#print(\"Columns with Null Values\")\n",
    "#for column in beer_data.columns:\n",
    "#    count = len(beer_data.loc[pd.isnull(beer_data[column])])\n",
    "#    if count > 0 :\n",
    "#       print (\"Column Name: \", column, \" Null Values: \", count)"
   ]
  },
  {
   "cell_type": "markdown",
   "metadata": {},
   "source": [
    "#### Q2. Recommend beers based on the data - Approach 1\n",
    "\n",
    "A simple ordering of data based on review_overall should give us a list with beers and their corresponding ranking in the list. \n",
    "\n",
    "#### Preprocessing\n",
    "Number of reviews are not same for all beers. So, we will calculate the sample mean from the number of reviews we gathered for a beer to assign one overall_review for each beer. However, some beers have only one review where as others have more than one reviews. Hence, we need to clean up the data to include only those beers where we can calculate the mean within a certain margin of error. \n",
    "\n",
    "The statistics way to chose the threshold number of reviews (min number of samples) is to compute the minimum number of required reviews for a beer to predict the mean with 95% confidence interval. \n",
    "\n",
    "We use this formula: ($\\frac{\\sigma^2 * Z^2}{m^2}$), where $\\sigma$ is the standard deviation of the sample, Z-score for a confidence interval of 95% is 1.96 and m is the allowed margin of error. "
   ]
  },
  {
   "cell_type": "code",
   "execution_count": 5,
   "metadata": {
    "collapsed": false,
    "scrolled": true
   },
   "outputs": [
    {
     "data": {
      "text/html": [
       "<div>\n",
       "<table border=\"1\" class=\"dataframe\">\n",
       "  <thead>\n",
       "    <tr style=\"text-align: right;\">\n",
       "      <th></th>\n",
       "      <th>brewery_name</th>\n",
       "      <th>beer_style</th>\n",
       "      <th>beer_name</th>\n",
       "      <th>review_overall</th>\n",
       "    </tr>\n",
       "    <tr>\n",
       "      <th>beer_beerid</th>\n",
       "      <th></th>\n",
       "      <th></th>\n",
       "      <th></th>\n",
       "      <th></th>\n",
       "    </tr>\n",
       "  </thead>\n",
       "  <tbody>\n",
       "    <tr>\n",
       "      <th>63649</th>\n",
       "      <td>Peg's Cantina &amp; Brewpub / Cycle Brewing</td>\n",
       "      <td>American Double / Imperial Stout</td>\n",
       "      <td>Rare D.O.S.</td>\n",
       "      <td>4.848485</td>\n",
       "    </tr>\n",
       "    <tr>\n",
       "      <th>44910</th>\n",
       "      <td>De Struise Brouwers</td>\n",
       "      <td>Lambic - Unblended</td>\n",
       "      <td>Dirty Horse</td>\n",
       "      <td>4.820513</td>\n",
       "    </tr>\n",
       "    <tr>\n",
       "      <th>8626</th>\n",
       "      <td>Southampton Publick House</td>\n",
       "      <td>Berliner Weissbier</td>\n",
       "      <td>Southampton Berliner Weisse</td>\n",
       "      <td>4.768293</td>\n",
       "    </tr>\n",
       "    <tr>\n",
       "      <th>68548</th>\n",
       "      <td>Brouwerij Drie Fonteinen</td>\n",
       "      <td>Gueuze</td>\n",
       "      <td>Armand'4 Oude Geuze Lente (Spring)</td>\n",
       "      <td>4.730769</td>\n",
       "    </tr>\n",
       "    <tr>\n",
       "      <th>70356</th>\n",
       "      <td>Brouwerij Drie Fonteinen</td>\n",
       "      <td>Gueuze</td>\n",
       "      <td>Armand'4 Oude Geuze Zomer (Summer)</td>\n",
       "      <td>4.644444</td>\n",
       "    </tr>\n",
       "    <tr>\n",
       "      <th>56082</th>\n",
       "      <td>Kern River Brewing Company</td>\n",
       "      <td>American Double / Imperial IPA</td>\n",
       "      <td>Citra DIPA</td>\n",
       "      <td>4.628049</td>\n",
       "    </tr>\n",
       "    <tr>\n",
       "      <th>36316</th>\n",
       "      <td>Brasserie Cantillon</td>\n",
       "      <td>Lambic - Fruit</td>\n",
       "      <td>Cantillon Blåbær Lambik</td>\n",
       "      <td>4.625806</td>\n",
       "    </tr>\n",
       "    <tr>\n",
       "      <th>41928</th>\n",
       "      <td>Russian River Brewing Company</td>\n",
       "      <td>American Wild Ale</td>\n",
       "      <td>Deviation - Bottleworks 9th Anniversary</td>\n",
       "      <td>4.620536</td>\n",
       "    </tr>\n",
       "    <tr>\n",
       "      <th>16814</th>\n",
       "      <td>The Alchemist</td>\n",
       "      <td>American Double / Imperial IPA</td>\n",
       "      <td>Heady Topper</td>\n",
       "      <td>4.618510</td>\n",
       "    </tr>\n",
       "    <tr>\n",
       "      <th>1545</th>\n",
       "      <td>Brouwerij Westvleteren (Sint-Sixtusabdij van W...</td>\n",
       "      <td>Quadrupel (Quad)</td>\n",
       "      <td>Trappist Westvleteren 12</td>\n",
       "      <td>4.617925</td>\n",
       "    </tr>\n",
       "  </tbody>\n",
       "</table>\n",
       "</div>"
      ],
      "text/plain": [
       "                                                  brewery_name  \\\n",
       "beer_beerid                                                      \n",
       "63649                  Peg's Cantina & Brewpub / Cycle Brewing   \n",
       "44910                                      De Struise Brouwers   \n",
       "8626                                 Southampton Publick House   \n",
       "68548                                 Brouwerij Drie Fonteinen   \n",
       "70356                                 Brouwerij Drie Fonteinen   \n",
       "56082                               Kern River Brewing Company   \n",
       "36316                                      Brasserie Cantillon   \n",
       "41928                            Russian River Brewing Company   \n",
       "16814                                            The Alchemist   \n",
       "1545         Brouwerij Westvleteren (Sint-Sixtusabdij van W...   \n",
       "\n",
       "                                   beer_style  \\\n",
       "beer_beerid                                     \n",
       "63649        American Double / Imperial Stout   \n",
       "44910                      Lambic - Unblended   \n",
       "8626                       Berliner Weissbier   \n",
       "68548                                  Gueuze   \n",
       "70356                                  Gueuze   \n",
       "56082          American Double / Imperial IPA   \n",
       "36316                          Lambic - Fruit   \n",
       "41928                       American Wild Ale   \n",
       "16814          American Double / Imperial IPA   \n",
       "1545                         Quadrupel (Quad)   \n",
       "\n",
       "                                           beer_name  review_overall  \n",
       "beer_beerid                                                           \n",
       "63649                                    Rare D.O.S.        4.848485  \n",
       "44910                                    Dirty Horse        4.820513  \n",
       "8626                     Southampton Berliner Weisse        4.768293  \n",
       "68548             Armand'4 Oude Geuze Lente (Spring)        4.730769  \n",
       "70356             Armand'4 Oude Geuze Zomer (Summer)        4.644444  \n",
       "56082                                     Citra DIPA        4.628049  \n",
       "36316                        Cantillon Blåbær Lambik        4.625806  \n",
       "41928        Deviation - Bottleworks 9th Anniversary        4.620536  \n",
       "16814                                   Heady Topper        4.618510  \n",
       "1545                        Trappist Westvleteren 12        4.617925  "
      ]
     },
     "execution_count": 5,
     "metadata": {},
     "output_type": "execute_result"
    }
   ],
   "source": [
    "# define a new dataframe with four attributes\n",
    "samplesDF = beerData[[\"beer_beerid\",\"beer_name\",\"review_overall\", \"review_profilename\"]]\n",
    "\n",
    "# drop duplicate reviews for the same beer\n",
    "samplesDF = samplesDF.drop_duplicates([\"beer_beerid\",\"review_profilename\"])\n",
    "\n",
    "# set indices for determining levels\n",
    "samplesDF = samplesDF.set_index([\"beer_beerid\",\"beer_name\"])\n",
    "\n",
    "# Calculate nSamples, sampleMeans, sampleStdDev\n",
    "nSamples = samplesDF.groupby(level=0).count().to_dict()\n",
    "sampleMeans = samplesDF.groupby(level=0).mean().to_dict()\n",
    "sampleStdDev = samplesDF.groupby(level=0).std()\n",
    "\n",
    "\n",
    "# Define Margin of Error and Z-score for 95% confidence interval\n",
    "mError = 0.1\n",
    "zScore = 1.96\n",
    "\n",
    "# filter out sampleMeans with less number of reviews than minimum required\n",
    "# to achieve 95% confidence interval, sort sampleMeans and rank beer_ids \n",
    "# from the sorted sampleMeans\n",
    "# reject samples with std dev = 0.0\n",
    "\n",
    "sampleMeansTemp = {}\n",
    "for key in nSamples.keys(): \n",
    "    if key == \"review_overall\": # we are only interested in overall_review\n",
    "        for beerID in nSamples[key].keys(): # get the values - beer_beerid and overall review\n",
    "            if sampleStdDev[key][beerID] > 0:\n",
    "                nSamplesRequired = (sampleStdDev[key][beerID] * zScore/mError)**2\n",
    "            if nSamples[key][beerID] > nSamplesRequired:\n",
    "                sampleMeansTemp[beerID] =  sampleMeans[key][beerID]\n",
    "\n",
    "# redefine sampleMeans by sorted overall_reviews \n",
    "sampleMeans = sorted(sampleMeansTemp.items(), key=lambda x: x[1] , reverse=True)\n",
    "\n",
    "# Filter out the beerIDs that are not included in sampleMeans list\n",
    "# make a new dataframe\n",
    "# appending rows to make a new data frame takes a lot of time. So we will take this approach. \n",
    "#Take the original data frame and drop the rows by comparing beerIDs\n",
    "\n",
    "reviewBeerIDs = [beerKey[0] for beerKey in sampleMeans]\n",
    "# drop the duplicate beerIDs \n",
    "newBeerDF = beerData.drop_duplicates([\"beer_beerid\"])\n",
    "beerIDsAll = newBeerDF.beer_beerid.tolist()\n",
    "\n",
    "# list the iDs that we need to discard\n",
    "discardBeerIDs = [beerID for beerID in beerIDsAll if beerID not in reviewBeerIDs]\n",
    "newBeerDF = newBeerDF.set_index([\"beer_beerid\"])\n",
    "newBeerDF = newBeerDF.drop(discardBeerIDs)\n",
    "\n",
    "#drop other labels and leave only few for visualization\n",
    "newBeerDF = newBeerDF.drop(['brewery_id','review_time', 'review_overall','review_aroma','review_taste',\n",
    "                    'review_palate','review_profilename','beer_abv','review_appearance'], axis=1)\n",
    "\n",
    "# Create a column review_overall with values from sampleMeans\n",
    "review_overall = []\n",
    "for beerIndex in newBeerDF.index.tolist():\n",
    "    for keyIndex in range(len(sampleMeans)):\n",
    "        if sampleMeans[keyIndex][0] == beerIndex:\n",
    "            review_overall.append(sampleMeans[keyIndex][1])\n",
    "\n",
    "# add the column review_overall values from sampleMeans list\n",
    "newBeerDF['review_overall'] = review_overall\n",
    "\n",
    "# sort the dataframe by overall reviews and print the top ten beers in the list\n",
    "newBeerDF = newBeerDF.sort_values(by='review_overall', ascending=False)\n",
    "newBeerDF.head(10)"
   ]
  },
  {
   "cell_type": "markdown",
   "metadata": {},
   "source": [
    "#### Q2. Recommend beers based on the data - Build a content-based recommendation system\n",
    "\n",
    "Data Matrix: Lets assume that ratings are correct and correlate with user preferences. Data matrix contains overall reviews and users data. We collect user info based on review_profilename. Hence, some data points with missing \"review_profilename\" are dropped from the data matrix. \n",
    "\n",
    "Features Matrix: Features matrix contains four features (appearance,aroma, palate, taste) rated by different users. We assume that the rating is proportional to their tastes. We will not use ABV% here as one of the feature. It has many undefined values that could shrink our feature set.\n",
    "\n",
    "We will use the reduced dataset from the above approach that satisfy minimum number of samples required to predict population means with 95% confidence level given a sample stdDev and margin of error. Here we will not reduce overall_reviews, but we will find out sample mean for each attribute: aroma, palette, appearance and taste\n",
    "\n",
    "Finally, we use linear regression with regularization to calculate the parameters that correlate features with overall rating. \n",
    "\n"
   ]
  },
  {
   "cell_type": "code",
   "execution_count": 39,
   "metadata": {
    "collapsed": false,
    "scrolled": true
   },
   "outputs": [
    {
     "name": "stdout",
     "output_type": "stream",
     "text": [
      "420\n"
     ]
    }
   ],
   "source": [
    "# Data Matrix\n",
    "dataDF = beerData[[\"beer_beerid\",\"review_overall\", \"review_profilename\"]]\n",
    "\n",
    "# drop duplicate reviews for the same beer\n",
    "dataDF = dataDF.drop_duplicates([\"beer_beerid\",\"review_profilename\"])\n",
    "\n",
    "# set indices for determining levels\n",
    "dataDF = dataDF.set_index(\"beer_beerid\")\n",
    "\n",
    "# drop the rows with less number of reviews than required samples\n",
    "# Refer to diff variable from above\n",
    "dataDF = dataDF.drop(discardBeerIDs)\n",
    "\n",
    "# Make a numpy 2D array with beerIDs on one axis \n",
    "# and profilenames on the other axis\n",
    "dataDF = dataDF.reset_index()\n",
    "beerIDList = sorted(dataDF.beer_beerid.unique())\n",
    "profileList = dataDF.review_profilename.unique()\n",
    "\n",
    "# Define Data Matrix\n",
    "dataMatrix = np.zeros(len(beerIDList) * len(profileList)).reshape(len(beerIDList),len(profileList))\n",
    "\n",
    "# Reindex to use access dataframe using two indices of numpy array\n",
    "dataDF = dataDF.set_index([\"beer_beerid\",\"review_profilename\"])\n",
    "\n",
    "for beerID in range(2):\n",
    "    for profile in range(len(profileList)):\n",
    "        try:\n",
    "            rating = dataDF.loc[(beerIDList[beerID],profileList[profile]),\"review_overall\"]\n",
    "            dataMatrix[beerID][profile] = rating\n",
    "            #print(profile, beerID, rating)\n",
    "        except KeyError:\n",
    "            pass\n",
    "    \n",
    "            \n",
    "#print (len([dataMatrix[0][i] for i in range(len(dataMatrix[0])) if dataMatrix[0][i] > 0]))"
   ]
  },
  {
   "cell_type": "code",
   "execution_count": 59,
   "metadata": {
    "collapsed": false
   },
   "outputs": [
    {
     "name": "stdout",
     "output_type": "stream",
     "text": [
      "[  7.68160000e+04   4.11000000e+00   3.95000000e+00   3.94000000e+00\n",
      "   4.01000000e+00]\n"
     ]
    }
   ],
   "source": [
    "# Feature Matrix\n",
    "# Follow the first few steps from dataMatrix\n",
    "featureDF = beerData[[\"beer_beerid\", \"review_profilename\",'review_appearance','review_aroma', \n",
    "                      'review_palate','review_taste']]\n",
    "featureDF = featureDF.drop_duplicates([\"beer_beerid\",\"review_profilename\"])\n",
    "featureDF = featureDF.set_index(\"beer_beerid\")\n",
    "featureDF = featureDF.drop(discardBeerIDs)\n",
    "featureDF = featureDF.reset_index()\n",
    "\n",
    "# Make lists that match data matrix indices\n",
    "beerIDList = sorted(featureDF.beer_beerid.unique())\n",
    "profileList = featureDF.review_profilename.unique()\n",
    "\n",
    "# We are interested in beer features. So we index the data frame using ID and profilename\n",
    "# and calculate sample means of all features\n",
    "featureDF = featureDF.set_index([\"beer_beerid\",\"review_profilename\"])\n",
    "\n",
    "# features sampleMeans\n",
    "featuresDict = featureDF.groupby(level=0).mean().to_dict()\n",
    "appearanceSampleMeans = featuresDict['review_appearance']\n",
    "aromaSampleMeans = featuresDict['review_aroma']\n",
    "palateSampleMeans = featuresDict['review_palate']\n",
    "tasteSampleMeans = featuresDict['review_taste']\n",
    "\n",
    "# Define featureMatrix\n",
    "featureMatrix = np.zeros(len(beerIDList*5)).reshape(len(beerIDList),5)\n",
    "featuresMeansDicts = [appearanceSampleMeans,aromaSampleMeans,\n",
    "                      palateSampleMeans,tasteSampleMeans]\n",
    "\n",
    "for beerIndex in range(len(beerIDList)):\n",
    "    featureMatrix[beerIndex][0] = beerIDList[beerIndex]\n",
    "    \n",
    "featureIndex = 1 # feature index in feature Matrix\n",
    "for featureDict in featuresMeansDicts:\n",
    "    for beerIndex in range(len(beerIDList)):\n",
    "        for key in featureDict.keys():\n",
    "            if key == beerIDList[beerIndex]:\n",
    "                featureMatrix[beerIndex][featureIndex] = featureDict[key]\n",
    "    featureIndex += 1"
   ]
  },
  {
   "cell_type": "code",
   "execution_count": null,
   "metadata": {
    "collapsed": false,
    "scrolled": true
   },
   "outputs": [],
   "source": [
    "# check for any NA values in four features\n",
    "beer_ratings = beer_data.dropna(how='any').loc[:,[\"beer_beerid\",\"review_overall\",\n",
    "                                                  \"review_taste\",\"review_aroma\",\n",
    "                                                 \"review_palate\",\"review_appearance\",\n",
    "                                                 \"review_profilename\"]]\n",
    "# Check for duplicate entries -  condition: same user, same rating and same beer_id\n",
    "print (len(beer_ratings)) #- before duplicates removed\n",
    "beer_ratings = beer_ratings.drop_duplicates()\n",
    "print (len(beer_ratings)) #- after removing duplicates"
   ]
  },
  {
   "cell_type": "code",
   "execution_count": null,
   "metadata": {
    "collapsed": false
   },
   "outputs": [],
   "source": [
    "beer_ratings = beer_ratings.drop_duplicates(subset=['beer_beerid','review_profilename'])\n",
    "print (len(beer_ratings)) #- after removing duplicates"
   ]
  },
  {
   "cell_type": "markdown",
   "metadata": {},
   "source": [
    "Create a data matrix (again a data frame) by rearranging the beer_ratings data frame using two indices and extracting the overall rating column"
   ]
  },
  {
   "cell_type": "code",
   "execution_count": null,
   "metadata": {
    "collapsed": false
   },
   "outputs": [],
   "source": [
    "#beer_ratings.set_index([\"beer_beerid\",\"review_profilename\"], inplace=True)\n",
    "# Set indices\n",
    "#beer_ratings.set_index(['beer_beerid','review_profilename'], inplace=True)\n",
    "#beer_ratings\n",
    "# Create a new dataframe which is our 'Data Matrix' that contains\n",
    "# beer IDs as rows, usernames as columns and overall reviews as datapoints\n",
    "# Some values are NA because all users didn't rate all beers\n",
    "#beer_datamatrix = beer_ratings.to_panel().review_overall\n",
    "#beer_datamatrix\n",
    "print (len(beer_ratings))\n",
    "#beer_ratings.to_csv(\"testdata.csv\")"
   ]
  },
  {
   "cell_type": "code",
   "execution_count": null,
   "metadata": {
    "collapsed": false,
    "scrolled": false
   },
   "outputs": [],
   "source": [
    "# Test code\n",
    "df = beer_ratings[:200]\n",
    "print (len(df.review_profilename))\n",
    "list_profiles = np.sort(df.review_profilename.tolist())\n",
    "set_profiles = list(set(list_profiles))\n",
    "list_beerids = np.sort(df.beer_beerid.tolist())\n",
    "set_beerids = list(set(list_beerids))\n",
    "dataM_sub = np.zeros(len(set_beerids) * len(set_profiles))\n",
    "dataM_sub.reshape(len(set_beerids), len(set_profiles))\n",
    "\n",
    "df_new = df.set_index([\"beer_beerid\",\"review_profilename\"])\n",
    "df_new.index[1]\n",
    "\n",
    "for i in range(len(set_beerids)):\n",
    "    for j in range(len(set_profiles)):\n",
    "        for k in range(len(df_new.index)):\n",
    "            if (set_beerids[i],set_profiles[j]) == df_new.index[k]:\n",
    "                dataM_sub[i][j] = df_new.loc[df_new.index[k]].tolist()\n",
    "\n",
    "print (dataM_sub)\n",
    "#dfw = beer_ratings.to_panel().review_overall\n",
    "#dfw = beer_ratings.index.tolist()\n",
    "#print (len(dfw))\n",
    "#beer_ratings.index.value_counts()\n",
    "#print (len(list(set(dfw))))\n",
    "#for i in list(set(dfw))[:10]:\n",
    "    "
   ]
  },
  {
   "cell_type": "code",
   "execution_count": null,
   "metadata": {
    "collapsed": false
   },
   "outputs": [],
   "source": []
  }
 ],
 "metadata": {
  "anaconda-cloud": {},
  "kernelspec": {
   "display_name": "Python [default]",
   "language": "python",
   "name": "python3"
  },
  "language_info": {
   "codemirror_mode": {
    "name": "ipython",
    "version": 3
   },
   "file_extension": ".py",
   "mimetype": "text/x-python",
   "name": "python",
   "nbconvert_exporter": "python",
   "pygments_lexer": "ipython3",
   "version": "3.5.2"
  }
 },
 "nbformat": 4,
 "nbformat_minor": 1
}
